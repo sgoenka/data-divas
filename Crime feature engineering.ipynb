{
 "cells": [
  {
   "cell_type": "code",
   "execution_count": 2,
   "metadata": {},
   "outputs": [
    {
     "name": "stdout",
     "output_type": "stream",
     "text": [
      "(878049, 9)\n"
     ]
    }
   ],
   "source": [
    "# Read in SF crime data\n",
    "crime = pd.read_csv('~/Desktop/project1030/SF/SF.csv')\n",
    "print(crime.shape)"
   ]
  },
  {
   "cell_type": "code",
   "execution_count": 3,
   "metadata": {},
   "outputs": [
    {
     "name": "stdout",
     "output_type": "stream",
     "text": [
      "0    2015-05-13\n",
      "1    2015-05-13\n",
      "2    2015-05-13\n",
      "3    2015-05-13\n",
      "4    2015-05-13\n",
      "Name: datetime, dtype: object\n"
     ]
    }
   ],
   "source": [
    "# Create date variable from datetime\n",
    "crime['datetime'] = pd.to_datetime(crime['Dates'])\n",
    "dates_only = crime['datetime'].map(pd.Timestamp.date)\n",
    "print(dates_only[0:5])\n",
    "crime['date'] = dates_only"
   ]
  },
  {
   "cell_type": "code",
   "execution_count": 4,
   "metadata": {},
   "outputs": [
    {
     "name": "stdout",
     "output_type": "stream",
     "text": [
      "0    2015\n",
      "1    2015\n",
      "2    2015\n",
      "3    2015\n",
      "4    2015\n",
      "Name: year, dtype: int64\n",
      "0    <built-in method time of Timestamp object at 0...\n",
      "1    <built-in method time of Timestamp object at 0...\n",
      "2    <built-in method time of Timestamp object at 0...\n",
      "3    <built-in method time of Timestamp object at 0...\n",
      "4    <built-in method time of Timestamp object at 0...\n",
      "Name: time, dtype: object\n",
      "0    5\n",
      "1    5\n",
      "2    5\n",
      "3    5\n",
      "4    5\n",
      "Name: month, dtype: int64\n"
     ]
    }
   ],
   "source": [
    "# Extract years, months, and times\n",
    "years_only = crime['datetime'].map(lambda t: t.year)\n",
    "crime['year'] = years_only\n",
    "print(crime['year'].head())\n",
    "\n",
    "time_only = crime['datetime'].map(lambda t: t.time)\n",
    "crime['time'] = time_only\n",
    "print(crime['time'].head())\n",
    "\n",
    "months_only = crime['datetime'].map(lambda t: t.month)\n",
    "crime['month'] = months_only\n",
    "print(crime['month'].head())"
   ]
  },
  {
   "cell_type": "code",
   "execution_count": 5,
   "metadata": {
    "collapsed": true
   },
   "outputs": [],
   "source": [
    "# To simplify initially, keep only crime reports from 2003 to 2005\n",
    "#crime_new = crime[crime['year'].isin([2003, 2004, 2005])]\n",
    "\n",
    "# Confusing, but I kept this because I didn't want to change future references to \"crime_new\"\n",
    "crime_new = crime"
   ]
  },
  {
   "cell_type": "code",
   "execution_count": 6,
   "metadata": {},
   "outputs": [
    {
     "name": "stdout",
     "output_type": "stream",
     "text": [
      "(878049, 14)\n",
      "2013    75606\n",
      "2014    74766\n",
      "2003    73902\n",
      "2004    73422\n",
      "2012    71731\n",
      "2005    70779\n",
      "2008    70174\n",
      "2006    69909\n",
      "2009    69000\n",
      "2007    68015\n",
      "2011    66619\n",
      "2010    66542\n",
      "2015    27584\n",
      "Name: year, dtype: int64\n"
     ]
    }
   ],
   "source": [
    "print(crime_new.shape)\n",
    "print(crime_new['year'].value_counts())"
   ]
  },
  {
   "cell_type": "code",
   "execution_count": 7,
   "metadata": {
    "collapsed": true
   },
   "outputs": [],
   "source": [
    "# Sort by date\n",
    "crime_new.sort_values('datetime', inplace=True)\n",
    "#print(crime_new['datetime'].tail(10))"
   ]
  },
  {
   "cell_type": "markdown",
   "metadata": {},
   "source": [
    "Now we want to import the census tract boundaries information and create an variable indicating in which census tract each crime occurred."
   ]
  },
  {
   "cell_type": "code",
   "execution_count": 8,
   "metadata": {
    "collapsed": true
   },
   "outputs": [],
   "source": [
    "import geopandas as gpd\n",
    "import os\n",
    "\n",
    "# Read in csv file containing SF census tracts and corresponding MULTIPOLYGON objects\n",
    "data_path = '/Users/Sam/Desktop/project1030/SF'\n",
    "census_tr = pd.read_csv(os.path.join(data_path, 'Census_2010_Tracts.csv'))"
   ]
  },
  {
   "cell_type": "code",
   "execution_count": 9,
   "metadata": {},
   "outputs": [
    {
     "name": "stdout",
     "output_type": "stream",
     "text": [
      "   STATEFP10  TRACTCE10                                           the_geom  \\\n",
      "0          6      16500  MULTIPOLYGON (((-122.446471 37.775802, -122.44...   \n",
      "1          6      16400  MULTIPOLYGON (((-122.44033999999999 37.7765799...   \n",
      "2          6      16300  MULTIPOLYGON (((-122.429152 37.778006999999995...   \n",
      "3          6      16100  MULTIPOLYGON (((-122.428909 37.778039, -122.42...   \n",
      "4          6      16000  MULTIPOLYGON (((-122.420425 37.780583, -122.42...   \n",
      "\n",
      "   COUNTYFP10     GEOID10  NAME10        NAMELSAD10 MTFCC10 FUNCSTAT10  \\\n",
      "0          75  6075016500   165.0  Census Tract 165   G5020          S   \n",
      "1          75  6075016400   164.0  Census Tract 164   G5020          S   \n",
      "2          75  6075016300   163.0  Census Tract 163   G5020          S   \n",
      "3          75  6075016100   161.0  Census Tract 161   G5020          S   \n",
      "4          75  6075016000   160.0  Census Tract 160   G5020          S   \n",
      "\n",
      "   ALAND10  AWATER10  INTPTLAT10  INTPTLON10  \n",
      "0   370459         0   37.774196 -122.447788  \n",
      "1   309097         0   37.775099 -122.436973  \n",
      "2   245867         0   37.776046 -122.429551  \n",
      "3   368901         0   37.779983 -122.428663  \n",
      "4   158236         0   37.782336 -122.422484  \n"
     ]
    }
   ],
   "source": [
    "from geopandas import GeoDataFrame\n",
    "import shapely.wkt\n",
    "\n",
    "geometry = census_tr['the_geom'].map(shapely.wkt.loads)\n",
    "print(census_tr.head())\n",
    "\n",
    "crs = {'init': 'epsg:4326'}\n",
    "\n",
    "# Restrict to mainland SF \n",
    "census_tr = census_tr[census_tr['INTPTLON10'] > -122.6]\n",
    "\n",
    "sf_census_tracts = GeoDataFrame(census_tr, crs=crs, geometry=geometry)"
   ]
  },
  {
   "cell_type": "code",
   "execution_count": 19,
   "metadata": {},
   "outputs": [
    {
     "data": {
      "image/png": "[encoded data removed]",
      "text/plain": [
       "<matplotlib.figure.Figure at 0x125c4ca90>"
      ]
     },
     "metadata": {},
     "output_type": "display_data"
    }
   ],
   "source": [
    "# Plot census tracts\n",
    "sf_census_tracts[sf_census_tracts['AWATER10'] == 0]\n",
    "sf_census_tracts.plot(figsize=(10, 20), column='ALAND10', cmap='Blues', scheme='quantiles')\n",
    "plt.show()"
   ]
  },
  {
   "cell_type": "markdown",
   "metadata": {},
   "source": [
    "Idea: for every crime, loop over all census tract polygons, and see which one contains it. Create a new variable containing the census tract #"
   ]
  },
  {
   "cell_type": "code",
   "execution_count": 11,
   "metadata": {
    "collapsed": true
   },
   "outputs": [],
   "source": [
    "from shapely.geometry import Point\n",
    "\n",
    "# First convert all crime occurrences to Point objects\n",
    "crime_locs = [Point(xy) for xy in zip(crime_new['X'], crime_new['Y'])]\n",
    "crime_locs_df = GeoDataFrame(crime_locs, crs=crs, geometry=crime_locs)"
   ]
  },
  {
   "cell_type": "code",
   "execution_count": 12,
   "metadata": {
    "collapsed": true
   },
   "outputs": [],
   "source": [
    "# Add locations to original dataframe\n",
    "crime_new['locs'] = crime_locs"
   ]
  },
  {
   "cell_type": "code",
   "execution_count": 13,
   "metadata": {
    "collapsed": true
   },
   "outputs": [],
   "source": [
    "# Execute spatial join of crimes with census tract boundaries \n",
    "crime_census = gpd.sjoin(crime_locs_df, sf_census_tracts, how=\"inner\", op='within')"
   ]
  },
  {
   "cell_type": "code",
   "execution_count": 14,
   "metadata": {},
   "outputs": [
    {
     "name": "stdout",
     "output_type": "stream",
     "text": [
      "Index([            0,    'geometry', 'index_right',   'STATEFP10',\n",
      "         'TRACTCE10',    'the_geom',  'COUNTYFP10',     'GEOID10',\n",
      "            'NAME10',  'NAMELSAD10',     'MTFCC10',  'FUNCSTAT10',\n",
      "           'ALAND10',    'AWATER10',  'INTPTLAT10',  'INTPTLON10'],\n",
      "      dtype='object')\n",
      "176.01     44398\n",
      "180.00     37512\n",
      "201.00     24937\n",
      "125.01     24913\n",
      "117.00     24562\n",
      "615.00     24102\n",
      "124.02     19914\n",
      "177.00     14921\n",
      "124.01     14475\n",
      "178.02     14446\n",
      "125.02     13782\n",
      "208.00     13322\n",
      "123.01     12888\n",
      "612.00     12009\n",
      "101.00     11595\n",
      "166.00      9745\n",
      "209.00      9398\n",
      "9809.00     9023\n",
      "122.02      9011\n",
      "228.01      8602\n",
      "122.01      8542\n",
      "9803.00     8527\n",
      "232.00      8309\n",
      "120.00      7836\n",
      "161.00      7769\n",
      "111.00      7645\n",
      "614.00      7432\n",
      "231.03      7404\n",
      "228.02      7377\n",
      "105.00      7205\n",
      "           ...  \n",
      "260.02      1410\n",
      "156.00      1409\n",
      "301.02      1403\n",
      "129.01      1395\n",
      "264.04      1393\n",
      "258.00      1392\n",
      "263.03      1372\n",
      "305.00      1362\n",
      "171.01      1332\n",
      "426.02      1315\n",
      "328.02      1261\n",
      "204.01      1261\n",
      "426.01      1259\n",
      "119.01      1200\n",
      "329.01      1186\n",
      "329.02      1096\n",
      "118.00      1067\n",
      "478.02      1052\n",
      "303.02      1035\n",
      "479.02      1011\n",
      "212.00       996\n",
      "126.01       984\n",
      "326.02       977\n",
      "477.02       962\n",
      "213.00       774\n",
      "306.00       746\n",
      "428.00       622\n",
      "9806.00      360\n",
      "601.00       280\n",
      "9802.00      172\n",
      "Name: NAME10, Length: 195, dtype: int64\n",
      "(877826, 16)\n"
     ]
    }
   ],
   "source": [
    "print(crime_census.columns)\n",
    "\n",
    "# NAME10 is the column from the census tracts dataset with the numeric identifier\n",
    "# How many crimes happened in each census tract?\n",
    "print(crime_census['NAME10'].value_counts())\n",
    "print(crime_census.shape)"
   ]
  },
  {
   "cell_type": "code",
   "execution_count": 15,
   "metadata": {},
   "outputs": [
    {
     "name": "stdout",
     "output_type": "stream",
     "text": [
      "                                              0  \\\n",
      "0     POINT (-122.394925721424 37.738211541052)   \n",
      "197  POINT (-122.39510178235 37.74838969908871)   \n",
      "388   POINT (-122.402868034989 37.749478392917)   \n",
      "445  POINT (-122.399679574042 37.7494852273741)   \n",
      "462  POINT (-122.405242467123 37.7430506903432)   \n",
      "\n",
      "                                       geometry  index_right  STATEFP10  \\\n",
      "0     POINT (-122.394925721424 37.738211541052)           40          6   \n",
      "197  POINT (-122.39510178235 37.74838969908871)           40          6   \n",
      "388   POINT (-122.402868034989 37.749478392917)           40          6   \n",
      "445  POINT (-122.399679574042 37.7494852273741)           40          6   \n",
      "462  POINT (-122.405242467123 37.7430506903432)           40          6   \n",
      "\n",
      "     TRACTCE10                                           the_geom  COUNTYFP10  \\\n",
      "0       980900  MULTIPOLYGON (((-122.37411699999998 37.744975,...          75   \n",
      "197     980900  MULTIPOLYGON (((-122.37411699999998 37.744975,...          75   \n",
      "388     980900  MULTIPOLYGON (((-122.37411699999998 37.744975,...          75   \n",
      "445     980900  MULTIPOLYGON (((-122.37411699999998 37.744975,...          75   \n",
      "462     980900  MULTIPOLYGON (((-122.37411699999998 37.744975,...          75   \n",
      "\n",
      "        GEOID10  NAME10         NAMELSAD10 MTFCC10 FUNCSTAT10  ALAND10  \\\n",
      "0    6075980900  9809.0  Census Tract 9809   G5020          S  3586378   \n",
      "197  6075980900  9809.0  Census Tract 9809   G5020          S  3586378   \n",
      "388  6075980900  9809.0  Census Tract 9809   G5020          S  3586378   \n",
      "445  6075980900  9809.0  Census Tract 9809   G5020          S  3586378   \n",
      "462  6075980900  9809.0  Census Tract 9809   G5020          S  3586378   \n",
      "\n",
      "     AWATER10  INTPTLAT10  INTPTLON10  \n",
      "0      260679   37.746286 -122.389477  \n",
      "197    260679   37.746286 -122.389477  \n",
      "388    260679   37.746286 -122.389477  \n",
      "445    260679   37.746286 -122.389477  \n",
      "462    260679   37.746286 -122.389477  \n"
     ]
    }
   ],
   "source": [
    "print(crime_census.head())"
   ]
  },
  {
   "cell_type": "code",
   "execution_count": 16,
   "metadata": {},
   "outputs": [
    {
     "name": "stderr",
     "output_type": "stream",
     "text": [
      "/anaconda/lib/python3.6/site-packages/ipykernel_launcher.py:7: SettingWithCopyWarning: \n",
      "A value is trying to be set on a copy of a slice from a DataFrame.\n",
      "Try using .loc[row_indexer,col_indexer] = value instead\n",
      "\n",
      "See the caveats in the documentation: http://pandas.pydata.org/pandas-docs/stable/indexing.html#indexing-view-versus-copy\n",
      "  import sys\n",
      "/anaconda/lib/python3.6/site-packages/ipykernel_launcher.py:8: SettingWithCopyWarning: \n",
      "A value is trying to be set on a copy of a slice from a DataFrame.\n",
      "Try using .loc[row_indexer,col_indexer] = value instead\n",
      "\n",
      "See the caveats in the documentation: http://pandas.pydata.org/pandas-docs/stable/indexing.html#indexing-view-versus-copy\n",
      "  \n"
     ]
    }
   ],
   "source": [
    "# Extract X and Y coordinates\n",
    "x_coords = crime_census['geometry'].apply(lambda p: p.x)\n",
    "y_coords = crime_census['geometry'].apply(lambda p: p.y)\n",
    "\n",
    "# Create new truncated df containing only Point object and census tract name\n",
    "crime_census_trunc = crime_census[['NAME10', 'the_geom']]\n",
    "crime_census_trunc['X'] = x_coords\n",
    "crime_census_trunc['Y'] = y_coords"
   ]
  },
  {
   "cell_type": "code",
   "execution_count": 17,
   "metadata": {},
   "outputs": [
    {
     "name": "stdout",
     "output_type": "stream",
     "text": [
      "(877826, 4)\n",
      "(878049, 15)\n",
      "(34222, 4)\n"
     ]
    },
    {
     "name": "stderr",
     "output_type": "stream",
     "text": [
      "/anaconda/lib/python3.6/site-packages/ipykernel_launcher.py:5: SettingWithCopyWarning: \n",
      "A value is trying to be set on a copy of a slice from a DataFrame\n",
      "\n",
      "See the caveats in the documentation: http://pandas.pydata.org/pandas-docs/stable/indexing.html#indexing-view-versus-copy\n",
      "  \"\"\"\n"
     ]
    }
   ],
   "source": [
    "print(crime_census_trunc.shape)\n",
    "print(crime_new.shape)\n",
    "\n",
    "# Remove duplicates from spatially merged dataset (crime_census_trunc)\n",
    "crime_census_trunc.drop_duplicates(inplace=True)\n",
    "print(crime_census_trunc.shape)"
   ]
  },
  {
   "cell_type": "code",
   "execution_count": 18,
   "metadata": {
    "collapsed": true
   },
   "outputs": [],
   "source": [
    "# Now, merge on census tract information to crime_new dataset, joining on the coordinate variables\n",
    "crime_merged = pd.merge(crime_new, crime_census_trunc, how='inner', on=['X', 'Y'])"
   ]
  },
  {
   "cell_type": "code",
   "execution_count": 19,
   "metadata": {},
   "outputs": [
    {
     "name": "stdout",
     "output_type": "stream",
     "text": [
      "(877826, 17)\n"
     ]
    }
   ],
   "source": [
    "print(crime_merged.shape)"
   ]
  },
  {
   "cell_type": "code",
   "execution_count": 20,
   "metadata": {
    "collapsed": true
   },
   "outputs": [],
   "source": [
    "crime_merged.rename(columns= {'NAME10': 'census_tr', 'the_geom': 'census_tr_poly'}, inplace=True)"
   ]
  },
  {
   "cell_type": "code",
   "execution_count": 21,
   "metadata": {
    "collapsed": true
   },
   "outputs": [],
   "source": [
    "# Export original crime data with census tract information\n",
    "#crime_merged.to_csv('~/Desktop/project1030/SF/crime_with_census_tracts.csv', index=False)"
   ]
  },
  {
   "cell_type": "code",
   "execution_count": 22,
   "metadata": {},
   "outputs": [
    {
     "name": "stdout",
     "output_type": "stream",
     "text": [
      "                      Dates       Category  \\\n",
      "877821  2015-05-11 17:35:00  LARCENY/THEFT   \n",
      "877822  2015-05-11 21:30:00  LARCENY/THEFT   \n",
      "877823  2015-05-13 02:00:00  VEHICLE THEFT   \n",
      "877824  2015-05-13 13:00:00       BURGLARY   \n",
      "877825  2015-05-13 19:00:00  LARCENY/THEFT   \n",
      "\n",
      "                                     Descript  DayOfWeek PdDistrict  \\\n",
      "877821           GRAND THEFT FROM LOCKED AUTO     Monday    TARAVAL   \n",
      "877822         GRAND THEFT FROM UNLOCKED AUTO     Monday    TARAVAL   \n",
      "877823                      STOLEN AUTOMOBILE  Wednesday    TARAVAL   \n",
      "877824  BURGLARY OF RESIDENCE, FORCIBLE ENTRY  Wednesday  INGLESIDE   \n",
      "877825           GRAND THEFT FROM LOCKED AUTO  Wednesday    BAYVIEW   \n",
      "\n",
      "       Resolution                    Address           X          Y  \\\n",
      "877821       NONE         8TH AV / MORAGA ST -122.464719  37.756630   \n",
      "877822       NONE      1700 Block of 36TH AV -122.494824  37.754348   \n",
      "877823       NONE        47TH AV / ORTEGA ST -122.506347  37.751050   \n",
      "877824       NONE  200 Block of STILLINGS AV -122.444854  37.734498   \n",
      "877825       NONE       100 Block of PAUL AV -122.397136  37.722805   \n",
      "\n",
      "                  datetime        date  year  \\\n",
      "877821 2015-05-11 17:35:00  2015-05-11  2015   \n",
      "877822 2015-05-11 21:30:00  2015-05-11  2015   \n",
      "877823 2015-05-13 02:00:00  2015-05-13  2015   \n",
      "877824 2015-05-13 13:00:00  2015-05-13  2015   \n",
      "877825 2015-05-13 19:00:00  2015-05-13  2015   \n",
      "\n",
      "                                                     time  month  \\\n",
      "877821  <built-in method time of Timestamp object at 0...      5   \n",
      "877822  <built-in method time of Timestamp object at 0...      5   \n",
      "877823  <built-in method time of Timestamp object at 0...      5   \n",
      "877824  <built-in method time of Timestamp object at 0...      5   \n",
      "877825  <built-in method time of Timestamp object at 0...      5   \n",
      "\n",
      "                                               locs  census_tr  \\\n",
      "877821  POINT (-122.464719305897 37.75663012005401)     303.01   \n",
      "877822   POINT (-122.494823519345 37.7543484793963)     329.02   \n",
      "877823  POINT (-122.506346594257 37.75105017635921)     352.01   \n",
      "877824   POINT (-122.444854141874 37.7344981112967)     307.00   \n",
      "877825   POINT (-122.397136217367 37.7228049825201)     233.00   \n",
      "\n",
      "                                           census_tr_poly  \n",
      "877821  MULTIPOLYGON (((-122.463632 37.756395, -122.46...  \n",
      "877822  MULTIPOLYGON (((-122.485988 37.751951, -122.48...  \n",
      "877823  MULTIPOLYGON (((-122.514098 37.748441, -122.51...  \n",
      "877824  MULTIPOLYGON (((-122.44240400000001 37.73764, ...  \n",
      "877825  MULTIPOLYGON (((-122.39356999999998 37.72698, ...  \n"
     ]
    }
   ],
   "source": [
    "print(crime_merged.tail())"
   ]
  },
  {
   "cell_type": "markdown",
   "metadata": {},
   "source": [
    "We want to create features based on crime history. Therefore, we need a way to count the number of specific crimes that occurred within the last 1-5 hours, 1-3, 7, and 14 days. As a starting point, create a very small dataset and experiment with calculating differences in datetime variables:"
   ]
  },
  {
   "cell_type": "code",
   "execution_count": 23,
   "metadata": {},
   "outputs": [
    {
     "name": "stdout",
     "output_type": "stream",
     "text": [
      "(50, 17)\n"
     ]
    }
   ],
   "source": [
    "# Start off by creating a smaller (n=50) dataset and trying to count prior crimes\n",
    "crime_test = crime_merged.sort_values(by='datetime').head(50)\n",
    "print(crime_test.shape)"
   ]
  },
  {
   "cell_type": "code",
   "execution_count": 24,
   "metadata": {
    "collapsed": true
   },
   "outputs": [],
   "source": [
    "# Keep only relevant vars\n",
    "crime_test = crime_test[['Dates', 'Category', 'DayOfWeek', 'date', 'year', 'time', 'month']]\n",
    "#print(crime_test.head(20))"
   ]
  },
  {
   "cell_type": "code",
   "execution_count": 25,
   "metadata": {
    "collapsed": true
   },
   "outputs": [],
   "source": [
    "crime_test['datetime'] = pd.to_datetime(crime_test['Dates'])\n",
    "crime_test['day'] = crime_test['datetime'].apply(lambda d: d.day)\n",
    "crime_test['hour'] = crime_test['datetime'].apply(lambda d: d.hour)\n",
    "crime_test['minute'] = crime_test['datetime'].apply(lambda d: d.minute)\n",
    "#print(crime_test.head(20))"
   ]
  },
  {
   "cell_type": "code",
   "execution_count": 26,
   "metadata": {},
   "outputs": [
    {
     "data": {
      "text/plain": [
       "119.0"
      ]
     },
     "execution_count": 26,
     "metadata": {},
     "output_type": "execute_result"
    }
   ],
   "source": [
    "# Test case: can we get the number of minutes between two datetime stamps?\n",
    "delta = crime_test['datetime'].values[20] - crime_test['datetime'].values[1]\n",
    "mins = delta.astype('timedelta64[m]')\n",
    "mins / np.timedelta64(1, 'm')"
   ]
  },
  {
   "cell_type": "code",
   "execution_count": 27,
   "metadata": {
    "collapsed": true
   },
   "outputs": [],
   "source": [
    "# Function to calculate difference between two datetimes: datetime_2 (later) and datetime_init (earlier)\n",
    "def calc_time_delta(datetime_2, datetime_init):\n",
    "    delta = datetime_2 - datetime_init\n",
    "    print(type(delta))\n",
    "    mins = delta.astype('timedelta64[m]')\n",
    "    return(mins / np.timedelta64(1, 'm'))\n",
    "\n",
    "# Map this function over the entire datetime column to get minutes elapsed since beginning\n",
    "# of dataset\n",
    "#crime_test['min_elapsed'] = np.apply_along_axis(func1d = calc_time_delta, axis = 0, \\\n",
    "#                            arr=crime_test['datetime'].values, datetime_init=crime_test['datetime'].values[0])"
   ]
  },
  {
   "cell_type": "markdown",
   "metadata": {},
   "source": [
    "Now that we understand how to slice by time window, return to the (complete) crime_merged dataset and create features we will need in our model."
   ]
  },
  {
   "cell_type": "code",
   "execution_count": 28,
   "metadata": {},
   "outputs": [
    {
     "name": "stderr",
     "output_type": "stream",
     "text": [
      "/anaconda/lib/python3.6/site-packages/ipykernel_launcher.py:7: SettingWithCopyWarning: \n",
      "A value is trying to be set on a copy of a slice from a DataFrame.\n",
      "Try using .loc[row_indexer,col_indexer] = value instead\n",
      "\n",
      "See the caveats in the documentation: http://pandas.pydata.org/pandas-docs/stable/indexing.html#indexing-view-versus-copy\n",
      "  import sys\n",
      "/anaconda/lib/python3.6/site-packages/ipykernel_launcher.py:8: SettingWithCopyWarning: \n",
      "A value is trying to be set on a copy of a slice from a DataFrame.\n",
      "Try using .loc[row_indexer,col_indexer] = value instead\n",
      "\n",
      "See the caveats in the documentation: http://pandas.pydata.org/pandas-docs/stable/indexing.html#indexing-view-versus-copy\n",
      "  \n"
     ]
    },
    {
     "name": "stdout",
     "output_type": "stream",
     "text": [
      "                 Category DayOfWeek            datetime        date  year  \\\n",
      "0  FORGERY/COUNTERFEITING    Monday 2003-01-06 00:01:00  2003-01-06  2003   \n",
      "1           LARCENY/THEFT    Monday 2003-01-06 00:01:00  2003-01-06  2003   \n",
      "2            NON-CRIMINAL    Sunday 2005-07-17 12:00:00  2005-07-17  2005   \n",
      "3               VANDALISM    Monday 2003-01-06 00:01:00  2003-01-06  2003   \n",
      "4           LARCENY/THEFT  Saturday 2003-01-25 12:00:00  2003-01-25  2003   \n",
      "\n",
      "                                                time  month  census_tr  \\\n",
      "0  <built-in method time of Timestamp object at 0...      1     9809.0   \n",
      "1  <built-in method time of Timestamp object at 0...      1      311.0   \n",
      "2  <built-in method time of Timestamp object at 0...      7      311.0   \n",
      "3  <built-in method time of Timestamp object at 0...      1      615.0   \n",
      "4  <built-in method time of Timestamp object at 0...      1      615.0   \n",
      "\n",
      "   non_payment  illegal_use  eviction  \n",
      "0            0            0         0  \n",
      "1            0            0         0  \n",
      "2            0            0         0  \n",
      "3            0            0         0  \n",
      "4            0            0         0  \n"
     ]
    },
    {
     "name": "stderr",
     "output_type": "stream",
     "text": [
      "/anaconda/lib/python3.6/site-packages/ipykernel_launcher.py:9: SettingWithCopyWarning: \n",
      "A value is trying to be set on a copy of a slice from a DataFrame.\n",
      "Try using .loc[row_indexer,col_indexer] = value instead\n",
      "\n",
      "See the caveats in the documentation: http://pandas.pydata.org/pandas-docs/stable/indexing.html#indexing-view-versus-copy\n",
      "  if __name__ == '__main__':\n"
     ]
    }
   ],
   "source": [
    "#print(crime_merged.columns)\n",
    "\n",
    "# Crime dataset with unneccesary features removed where we will engineer new features\n",
    "crime_engin_temp = crime_merged[['Category', 'DayOfWeek', 'datetime', 'date', 'year', \\\n",
    "                            'time', 'month', 'census_tr']]\n",
    "\n",
    "# Add eviction-specific columns (all zeros for crime observations)\n",
    "crime_engin_temp['non_payment'] = 0\n",
    "crime_engin_temp['illegal_use'] = 0\n",
    "crime_engin_temp['eviction'] = 0\n",
    "\n",
    "print(crime_engin_temp.head())"
   ]
  },
  {
   "cell_type": "code",
   "execution_count": 29,
   "metadata": {},
   "outputs": [
    {
     "name": "stdout",
     "output_type": "stream",
     "text": [
      "         date  census_tr  non_payment  illegal_use  eviction    datetime  \\\n",
      "0  2003-01-02     158.02            0            0         1  2003-01-02   \n",
      "1  2003-01-02     228.01            0            0         1  2003-01-02   \n",
      "2  2003-01-02     302.02            0            0         1  2003-01-02   \n",
      "3  2003-01-02     232.00            0            0         1  2003-01-02   \n",
      "4  2003-01-03     204.01            0            0         1  2003-01-03   \n",
      "\n",
      "                                                time  Category  year  month  \\\n",
      "0  <built-in method time of Timestamp object at 0...  EVICTION  2003      1   \n",
      "1  <built-in method time of Timestamp object at 0...  EVICTION  2003      1   \n",
      "2  <built-in method time of Timestamp object at 0...  EVICTION  2003      1   \n",
      "3  <built-in method time of Timestamp object at 0...  EVICTION  2003      1   \n",
      "4  <built-in method time of Timestamp object at 0...  EVICTION  2003      1   \n",
      "\n",
      "   DayOfWeek  \n",
      "0        NaN  \n",
      "1        NaN  \n",
      "2        NaN  \n",
      "3        NaN  \n",
      "4        NaN  \n"
     ]
    }
   ],
   "source": [
    "# Read in processed eviction data\n",
    "evict = pd.read_csv('~/Desktop/project1030/SF/evict_processed.csv')\n",
    "print(evict.head())\n",
    "\n",
    "evict.drop(columns=['datetime'], inplace=True)\n",
    "\n",
    "# Convert date to datetime\n",
    "def date_to_datetime(date):\n",
    "    #return str(date)\n",
    "    return pd.to_datetime(str(date))\n",
    "\n",
    "#date_to_datetime(evict['date'].values[0])\n",
    "evict['datetime'] = evict['date'].apply(lambda x: date_to_datetime(x))"
   ]
  },
  {
   "cell_type": "code",
   "execution_count": 30,
   "metadata": {},
   "outputs": [
    {
     "name": "stdout",
     "output_type": "stream",
     "text": [
      "(896440, 11)\n"
     ]
    }
   ],
   "source": [
    "crime_engin = crime_engin_temp.append(evict).sort_values(by='datetime')\n",
    "print(crime_engin.shape)"
   ]
  },
  {
   "cell_type": "code",
   "execution_count": 31,
   "metadata": {
    "collapsed": true
   },
   "outputs": [],
   "source": [
    "#print(crime_engin[['Category', 'datetime']].head(450))"
   ]
  },
  {
   "cell_type": "code",
   "execution_count": 32,
   "metadata": {
    "collapsed": true
   },
   "outputs": [],
   "source": [
    "# Two functions that simply define property and violent crimes based on Category variable\n",
    "def is_property_crime(crime_type):\n",
    "    return (crime_type in ['BURGLARY', 'LARCENY/THEFT', 'VEHICLE THEFT', 'RECOVERED VEHICLE', \\\n",
    "                      'ARSON', 'VANDALISM', 'STOLEN PROPERTY', 'EMBEZZLEMENT'])\n",
    "\n",
    "def is_violent_crime(crime_type):\n",
    "    return (crime_type in ['ASSAULT', 'SEX OFFENSES FORCIBLE', 'KIDNAPPING'])"
   ]
  },
  {
   "cell_type": "code",
   "execution_count": 33,
   "metadata": {
    "collapsed": true
   },
   "outputs": [],
   "source": [
    "import warnings\n",
    "warnings.filterwarnings('ignore')\n",
    "\n",
    "# Create categorical variables for crimes by mapping above functions over Category column\n",
    "crime_engin['property_crime'] = crime_engin['Category'].apply(is_property_crime).astype(int)\n",
    "crime_engin['violent_crime'] = crime_engin['Category'].apply(is_violent_crime).astype(int)\n",
    "\n",
    "crime_engin['robbery'] = (crime_engin['Category'] == 'ROBBERY').astype(int)\n",
    "\n",
    "crime_engin['other_crime'] = crime_engin['property_crime'] + crime_engin['violent_crime'] + crime_engin['robbery'] + 1\n",
    "crime_engin['other_crime'].replace(2, 0, inplace=True)\n",
    "\n",
    "crime_engin['any_crime'] = crime_engin['property_crime'] + crime_engin['violent_crime'] + \\\n",
    "                            crime_engin['robbery'] + crime_engin['other_crime']\n",
    "\n",
    "# The total for any row should be 1 (has to fall into one of the categories!)\n",
    "assert(crime_engin['any_crime'].unique() == 1)\n",
    "\n",
    "#print(crime_engin[['property_crime', 'violent_crime', 'robbery', 'other_crime', 'Category']].head(20))"
   ]
  },
  {
   "cell_type": "code",
   "execution_count": 34,
   "metadata": {
    "collapsed": true
   },
   "outputs": [],
   "source": [
    "# Make sure variables were created correctly\n",
    "#print(crime_engin[crime_engin['robbery'] == 1].head())"
   ]
  },
  {
   "cell_type": "code",
   "execution_count": 35,
   "metadata": {
    "collapsed": true
   },
   "outputs": [],
   "source": [
    "# Day of week, dummied out\n",
    "crime_engin['dow_1'] = (crime_engin['DayOfWeek'] == 'Monday').astype(int)\n",
    "crime_engin['dow_2'] = (crime_engin['DayOfWeek'] == 'Tuesday').astype(int)\n",
    "crime_engin['dow_3'] = (crime_engin['DayOfWeek'] == 'Wednesday').astype(int)\n",
    "crime_engin['dow_4'] = (crime_engin['DayOfWeek'] == 'Thursday').astype(int)\n",
    "crime_engin['dow_5'] = (crime_engin['DayOfWeek'] == 'Friday').astype(int)\n",
    "crime_engin['dow_6'] = (crime_engin['DayOfWeek'] == 'Saturday').astype(int)\n",
    "crime_engin['dow_7'] = (crime_engin['DayOfWeek'] == 'Sunday').astype(int)\n",
    "\n",
    "# Month\n",
    "crime_engin['month_1'] = (crime_engin['month'] == 1).astype(int)\n",
    "crime_engin['month_2'] = (crime_engin['month'] == 2).astype(int)\n",
    "crime_engin['month_3'] = (crime_engin['month'] == 3).astype(int)\n",
    "crime_engin['month_4'] = (crime_engin['month'] == 4).astype(int)\n",
    "crime_engin['month_5'] = (crime_engin['month'] == 5).astype(int)\n",
    "crime_engin['month_6'] = (crime_engin['month'] == 6).astype(int)\n",
    "crime_engin['month_7'] = (crime_engin['month'] == 7).astype(int)\n",
    "crime_engin['month_8'] = (crime_engin['month'] == 8).astype(int)\n",
    "crime_engin['month_9'] = (crime_engin['month'] == 9).astype(int)\n",
    "crime_engin['month_10'] = (crime_engin['month'] == 10).astype(int)\n",
    "crime_engin['month_11'] = (crime_engin['month'] == 11).astype(int)\n",
    "crime_engin['month_12'] = (crime_engin['month'] == 12).astype(int)\n",
    "\n",
    "# Year\n",
    "crime_engin['year_2003'] = (crime_engin['year'] == 2003).astype(int)\n",
    "crime_engin['year_2004'] = (crime_engin['year'] == 2004).astype(int)\n",
    "crime_engin['year_2005'] = (crime_engin['year'] == 2005).astype(int)\n",
    "crime_engin['year_2006'] = (crime_engin['year'] == 2006).astype(int)\n",
    "crime_engin['year_2007'] = (crime_engin['year'] == 2007).astype(int)\n",
    "crime_engin['year_2008'] = (crime_engin['year'] == 2008).astype(int)\n",
    "crime_engin['year_2009'] = (crime_engin['year'] == 2009).astype(int)\n",
    "crime_engin['year_2010'] = (crime_engin['year'] == 2010).astype(int)\n",
    "crime_engin['year_2011'] = (crime_engin['year'] == 2011).astype(int)\n",
    "crime_engin['year_2012'] = (crime_engin['year'] == 2012).astype(int)\n",
    "crime_engin['year_2013'] = (crime_engin['year'] == 2013).astype(int)\n",
    "crime_engin['year_2014'] = (crime_engin['year'] == 2014).astype(int)\n",
    "crime_engin['year_2015'] = (crime_engin['year'] == 2015).astype(int)"
   ]
  },
  {
   "cell_type": "code",
   "execution_count": 36,
   "metadata": {
    "collapsed": true
   },
   "outputs": [],
   "source": [
    "# Extract hour from datetime\n",
    "hours_only = crime['datetime'].map(lambda t: t.hour)\n",
    "crime_engin['hour'] = hours_only"
   ]
  },
  {
   "cell_type": "code",
   "execution_count": 37,
   "metadata": {
    "collapsed": true
   },
   "outputs": [],
   "source": [
    "# Hour binary variables \n",
    "crime_engin['hour_1'] = (crime_engin['hour'] == 1).astype(int)\n",
    "crime_engin['hour_2'] = (crime_engin['hour'] == 2).astype(int)\n",
    "crime_engin['hour_3'] = (crime_engin['hour'] == 3).astype(int)\n",
    "crime_engin['hour_4'] = (crime_engin['hour'] == 4).astype(int)\n",
    "crime_engin['hour_5'] = (crime_engin['hour'] == 5).astype(int)\n",
    "crime_engin['hour_6'] = (crime_engin['hour'] == 6).astype(int)\n",
    "crime_engin['hour_7'] = (crime_engin['hour'] == 7).astype(int)\n",
    "crime_engin['hour_8'] = (crime_engin['hour'] == 8).astype(int)\n",
    "crime_engin['hour_9'] = (crime_engin['hour'] == 9).astype(int)\n",
    "crime_engin['hour_10'] = (crime_engin['hour'] == 10).astype(int)\n",
    "crime_engin['hour_11'] = (crime_engin['hour'] == 11).astype(int)\n",
    "crime_engin['hour_12'] = (crime_engin['hour'] == 12).astype(int)\n",
    "crime_engin['hour_13'] = (crime_engin['hour'] == 13).astype(int)\n",
    "crime_engin['hour_14'] = (crime_engin['hour'] == 14).astype(int)\n",
    "crime_engin['hour_15'] = (crime_engin['hour'] == 15).astype(int)\n",
    "crime_engin['hour_16'] = (crime_engin['hour'] == 16).astype(int)\n",
    "crime_engin['hour_17'] = (crime_engin['hour'] == 17).astype(int)\n",
    "crime_engin['hour_18'] = (crime_engin['hour'] == 18).astype(int)\n",
    "crime_engin['hour_19'] = (crime_engin['hour'] == 19).astype(int)\n",
    "crime_engin['hour_20'] = (crime_engin['hour'] == 20).astype(int)\n",
    "crime_engin['hour_21'] = (crime_engin['hour'] == 21).astype(int)\n",
    "crime_engin['hour_22'] = (crime_engin['hour'] == 22).astype(int)\n",
    "crime_engin['hour_23'] = (crime_engin['hour'] == 23).astype(int)\n",
    "crime_engin['hour_24'] = (crime_engin['hour'] == 24).astype(int)"
   ]
  },
  {
   "cell_type": "markdown",
   "metadata": {},
   "source": [
    "Try out functions for creating prior crime variables on smaller test dataset"
   ]
  },
  {
   "cell_type": "code",
   "execution_count": 38,
   "metadata": {},
   "outputs": [
    {
     "name": "stdout",
     "output_type": "stream",
     "text": [
      "<class 'numpy.ndarray'>\n"
     ]
    }
   ],
   "source": [
    "# Create time index = minutes elapsed since beginning of data\n",
    "crime_engin['min_elapsed'] = np.apply_along_axis(func1d = calc_time_delta, axis = 0, \\\n",
    "                             arr=crime_engin['datetime'].values, datetime_init=crime_engin['datetime'].values[0])"
   ]
  },
  {
   "cell_type": "code",
   "execution_count": 39,
   "metadata": {},
   "outputs": [
    {
     "name": "stdout",
     "output_type": "stream",
     "text": [
      "(896440, 74)\n"
     ]
    }
   ],
   "source": [
    "# Start date = 1/6/2003, 01:00\n",
    "\n",
    "# CRITICAL STEP: this is where we decide how much of the DF to slice. We always will drop the first ~3000 obs., because\n",
    "# they correspond to two weeks of observations and therefore our prior_2_week variables will be meaningless\n",
    "# for these observations \n",
    "crime_engin_temp = crime_engin.sort_values(by='datetime')\n",
    "\n",
    "print(crime_engin_temp.shape)"
   ]
  },
  {
   "cell_type": "code",
   "execution_count": 40,
   "metadata": {},
   "outputs": [
    {
     "name": "stdout",
     "output_type": "stream",
     "text": [
      "(53600, 74)\n",
      "(50000, 74)\n",
      "72488   2005-08-26 05:40:00\n",
      "Name: datetime, dtype: datetime64[ns]\n",
      "515062   2005-09-11 04:00:00\n",
      "Name: datetime, dtype: datetime64[ns]\n",
      "785206   2006-05-20 20:00:00\n",
      "Name: datetime, dtype: datetime64[ns]\n",
      "621617   2006-05-21 00:03:00\n",
      "Name: datetime, dtype: datetime64[ns]\n",
      "(50000, 74)\n",
      "(49004, 74)\n"
     ]
    }
   ],
   "source": [
    "# Set indices for crime_engin2, AND temporarily shrink crime_engin as well to make it run faster\n",
    "crime_engin2 = crime_engin_temp.iloc[200000:250000]\n",
    "crime_engin = crime_engin_temp.iloc[196500:250100]\n",
    "\n",
    "print(crime_engin.shape)\n",
    "print(crime_engin2.shape)\n",
    "print(crime_engin['datetime'].head(1))\n",
    "print(crime_engin2['datetime'].head(1))\n",
    "print(crime_engin2['datetime'].tail(1))\n",
    "print(crime_engin['datetime'].tail(1))\n",
    "\n",
    "# Remove evictions from crime_engin2 (what we're getting counts for) because crime_engin will have these \n",
    "# counts (only want these counts for crimes)\n",
    "print(crime_engin2.shape)\n",
    "crime_engin2 = crime_engin2[crime_engin2['Category'] != 'EVICTION']\n",
    "print(crime_engin2.shape)"
   ]
  },
  {
   "cell_type": "code",
   "execution_count": 41,
   "metadata": {
    "collapsed": true
   },
   "outputs": [],
   "source": [
    "# Combine slice and sum functions\n",
    "def return_sum_over_slice(df, start_time, time_window, census_tract):\n",
    "    \n",
    "    if (start_time-time_window) >= 0:\n",
    "        sliced_df = df[(df['min_elapsed'] < start_time) & (df['min_elapsed'] >= (start_time-time_window))]\n",
    "        \n",
    "    else:\n",
    "        sliced_df = df[(df['min_elapsed'] < start_time)]\n",
    "        \n",
    "    # Restrict only to crimes in that census tract\n",
    "    result = sliced_df[sliced_df['census_tr'] == census_tract]\n",
    "    \n",
    "    if (result.empty==False):\n",
    "        return (result['property_crime'].sum(), result['violent_crime'].sum(), result['robbery'].sum(), \\\n",
    "                result['other_crime'].sum(), result['any_crime'].sum(), result['non_payment'].sum(), \\\n",
    "                result['illegal_use'].sum(), result['eviction'].sum())\n",
    "    else:\n",
    "        return (0, 0, 0, 0, 0, 0, 0, 0)"
   ]
  },
  {
   "cell_type": "code",
   "execution_count": 42,
   "metadata": {},
   "outputs": [
    {
     "name": "stdout",
     "output_type": "stream",
     "text": [
      "0\n",
      "1\n",
      "1\n"
     ]
    }
   ],
   "source": [
    "# Function to convert counts to binary (only using for future crimes as of now)\n",
    "def convert_to_binary(val):\n",
    "    return min(val, 1)\n",
    "\n",
    "# Test cases\n",
    "print(convert_to_binary(0))\n",
    "print(convert_to_binary(1))\n",
    "print(convert_to_binary(5))"
   ]
  },
  {
   "cell_type": "markdown",
   "metadata": {},
   "source": [
    "In order to calculate prior crimes for a given observation (n), we need to pass in parameters that don't vary for each row (df, time_window, var) as well as parameters that do vary by row (start_time = min_elapsed[n], census_tract=census_tr[n]). Create a new column to contain these two varying parameters in a tuple, then use a lambda function to iterate over the rows"
   ]
  },
  {
   "cell_type": "code",
   "execution_count": 43,
   "metadata": {
    "collapsed": true
   },
   "outputs": [],
   "source": [
    "crime_engin2['start_and_census'] = list(zip(crime_engin2['min_elapsed'], crime_engin2['census_tr']))"
   ]
  },
  {
   "cell_type": "code",
   "execution_count": 44,
   "metadata": {},
   "outputs": [
    {
     "ename": "KeyboardInterrupt",
     "evalue": "",
     "output_type": "error",
     "traceback": [
      "\u001b[0;31m---------------------------------------------------------------------------\u001b[0m",
      "\u001b[0;31mKeyboardInterrupt\u001b[0m                         Traceback (most recent call last)",
      "\u001b[0;32m<ipython-input-44-4ae2f2fe0315>\u001b[0m in \u001b[0;36m<module>\u001b[0;34m()\u001b[0m\n\u001b[1;32m     11\u001b[0m \u001b[0mdf_4_hours\u001b[0m \u001b[0;34m=\u001b[0m \u001b[0mpd\u001b[0m\u001b[0;34m.\u001b[0m\u001b[0mDataFrame\u001b[0m\u001b[0;34m(\u001b[0m\u001b[0;34m[\u001b[0m\u001b[0mx\u001b[0m \u001b[0;32mfor\u001b[0m \u001b[0mx\u001b[0m \u001b[0;32min\u001b[0m \u001b[0mmap\u001b[0m\u001b[0;34m(\u001b[0m\u001b[0;32mlambda\u001b[0m \u001b[0mx\u001b[0m\u001b[0;34m:\u001b[0m \u001b[0mreturn_sum_over_slice\u001b[0m\u001b[0;34m(\u001b[0m\u001b[0mdf\u001b[0m\u001b[0;34m=\u001b[0m\u001b[0mcrime_engin\u001b[0m\u001b[0;34m,\u001b[0m \u001b[0mstart_time\u001b[0m\u001b[0;34m=\u001b[0m\u001b[0mx\u001b[0m\u001b[0;34m[\u001b[0m\u001b[0;36m0\u001b[0m\u001b[0;34m]\u001b[0m\u001b[0;34m,\u001b[0m \u001b[0mtime_window\u001b[0m\u001b[0;34m=\u001b[0m\u001b[0;36m240.0\u001b[0m\u001b[0;34m,\u001b[0m \u001b[0mcensus_tract\u001b[0m \u001b[0;34m=\u001b[0m \u001b[0mx\u001b[0m\u001b[0;34m[\u001b[0m\u001b[0;36m1\u001b[0m\u001b[0;34m]\u001b[0m\u001b[0;34m)\u001b[0m\u001b[0;34m[\u001b[0m\u001b[0;36m0\u001b[0m\u001b[0;34m:\u001b[0m\u001b[0;36m5\u001b[0m\u001b[0;34m]\u001b[0m\u001b[0;34m,\u001b[0m \u001b[0mcrime_engin2\u001b[0m\u001b[0;34m[\u001b[0m\u001b[0;34m'start_and_census'\u001b[0m\u001b[0;34m]\u001b[0m\u001b[0;34m)\u001b[0m\u001b[0;34m]\u001b[0m\u001b[0;34m)\u001b[0m\u001b[0;34m\u001b[0m\u001b[0m\n\u001b[1;32m     12\u001b[0m \u001b[0;34m\u001b[0m\u001b[0m\n\u001b[0;32m---> 13\u001b[0;31m \u001b[0mdf_5_hours\u001b[0m \u001b[0;34m=\u001b[0m \u001b[0mpd\u001b[0m\u001b[0;34m.\u001b[0m\u001b[0mDataFrame\u001b[0m\u001b[0;34m(\u001b[0m\u001b[0;34m[\u001b[0m\u001b[0mx\u001b[0m \u001b[0;32mfor\u001b[0m \u001b[0mx\u001b[0m \u001b[0;32min\u001b[0m \u001b[0mmap\u001b[0m\u001b[0;34m(\u001b[0m\u001b[0;32mlambda\u001b[0m \u001b[0mx\u001b[0m\u001b[0;34m:\u001b[0m \u001b[0mreturn_sum_over_slice\u001b[0m\u001b[0;34m(\u001b[0m\u001b[0mdf\u001b[0m\u001b[0;34m=\u001b[0m\u001b[0mcrime_engin\u001b[0m\u001b[0;34m,\u001b[0m \u001b[0mstart_time\u001b[0m\u001b[0;34m=\u001b[0m\u001b[0mx\u001b[0m\u001b[0;34m[\u001b[0m\u001b[0;36m0\u001b[0m\u001b[0;34m]\u001b[0m\u001b[0;34m,\u001b[0m \u001b[0mtime_window\u001b[0m\u001b[0;34m=\u001b[0m\u001b[0;36m300.0\u001b[0m\u001b[0;34m,\u001b[0m \u001b[0mcensus_tract\u001b[0m \u001b[0;34m=\u001b[0m \u001b[0mx\u001b[0m\u001b[0;34m[\u001b[0m\u001b[0;36m1\u001b[0m\u001b[0;34m]\u001b[0m\u001b[0;34m)\u001b[0m\u001b[0;34m[\u001b[0m\u001b[0;36m0\u001b[0m\u001b[0;34m:\u001b[0m\u001b[0;36m5\u001b[0m\u001b[0;34m]\u001b[0m\u001b[0;34m,\u001b[0m \u001b[0mcrime_engin2\u001b[0m\u001b[0;34m[\u001b[0m\u001b[0;34m'start_and_census'\u001b[0m\u001b[0;34m]\u001b[0m\u001b[0;34m)\u001b[0m\u001b[0;34m]\u001b[0m\u001b[0;34m)\u001b[0m\u001b[0;34m\u001b[0m\u001b[0m\n\u001b[0m\u001b[1;32m     14\u001b[0m \u001b[0;34m\u001b[0m\u001b[0m\n\u001b[1;32m     15\u001b[0m \u001b[0mdf_1_day\u001b[0m \u001b[0;34m=\u001b[0m \u001b[0mpd\u001b[0m\u001b[0;34m.\u001b[0m\u001b[0mDataFrame\u001b[0m\u001b[0;34m(\u001b[0m\u001b[0;34m[\u001b[0m\u001b[0mx\u001b[0m \u001b[0;32mfor\u001b[0m \u001b[0mx\u001b[0m \u001b[0;32min\u001b[0m \u001b[0mmap\u001b[0m\u001b[0;34m(\u001b[0m\u001b[0;32mlambda\u001b[0m \u001b[0mx\u001b[0m\u001b[0;34m:\u001b[0m \u001b[0mreturn_sum_over_slice\u001b[0m\u001b[0;34m(\u001b[0m\u001b[0mdf\u001b[0m\u001b[0;34m=\u001b[0m\u001b[0mcrime_engin\u001b[0m\u001b[0;34m,\u001b[0m \u001b[0mstart_time\u001b[0m\u001b[0;34m=\u001b[0m\u001b[0mx\u001b[0m\u001b[0;34m[\u001b[0m\u001b[0;36m0\u001b[0m\u001b[0;34m]\u001b[0m\u001b[0;34m,\u001b[0m \u001b[0mtime_window\u001b[0m\u001b[0;34m=\u001b[0m\u001b[0;36m1440.0\u001b[0m\u001b[0;34m,\u001b[0m \u001b[0mcensus_tract\u001b[0m \u001b[0;34m=\u001b[0m \u001b[0mx\u001b[0m\u001b[0;34m[\u001b[0m\u001b[0;36m1\u001b[0m\u001b[0;34m]\u001b[0m\u001b[0;34m)\u001b[0m\u001b[0;34m,\u001b[0m \u001b[0mcrime_engin2\u001b[0m\u001b[0;34m[\u001b[0m\u001b[0;34m'start_and_census'\u001b[0m\u001b[0;34m]\u001b[0m\u001b[0;34m)\u001b[0m\u001b[0;34m]\u001b[0m\u001b[0;34m)\u001b[0m\u001b[0;34m\u001b[0m\u001b[0m\n",
      "\u001b[0;32m<ipython-input-44-4ae2f2fe0315>\u001b[0m in \u001b[0;36m<listcomp>\u001b[0;34m(.0)\u001b[0m\n\u001b[1;32m     11\u001b[0m \u001b[0mdf_4_hours\u001b[0m \u001b[0;34m=\u001b[0m \u001b[0mpd\u001b[0m\u001b[0;34m.\u001b[0m\u001b[0mDataFrame\u001b[0m\u001b[0;34m(\u001b[0m\u001b[0;34m[\u001b[0m\u001b[0mx\u001b[0m \u001b[0;32mfor\u001b[0m \u001b[0mx\u001b[0m \u001b[0;32min\u001b[0m \u001b[0mmap\u001b[0m\u001b[0;34m(\u001b[0m\u001b[0;32mlambda\u001b[0m \u001b[0mx\u001b[0m\u001b[0;34m:\u001b[0m \u001b[0mreturn_sum_over_slice\u001b[0m\u001b[0;34m(\u001b[0m\u001b[0mdf\u001b[0m\u001b[0;34m=\u001b[0m\u001b[0mcrime_engin\u001b[0m\u001b[0;34m,\u001b[0m \u001b[0mstart_time\u001b[0m\u001b[0;34m=\u001b[0m\u001b[0mx\u001b[0m\u001b[0;34m[\u001b[0m\u001b[0;36m0\u001b[0m\u001b[0;34m]\u001b[0m\u001b[0;34m,\u001b[0m \u001b[0mtime_window\u001b[0m\u001b[0;34m=\u001b[0m\u001b[0;36m240.0\u001b[0m\u001b[0;34m,\u001b[0m \u001b[0mcensus_tract\u001b[0m \u001b[0;34m=\u001b[0m \u001b[0mx\u001b[0m\u001b[0;34m[\u001b[0m\u001b[0;36m1\u001b[0m\u001b[0;34m]\u001b[0m\u001b[0;34m)\u001b[0m\u001b[0;34m[\u001b[0m\u001b[0;36m0\u001b[0m\u001b[0;34m:\u001b[0m\u001b[0;36m5\u001b[0m\u001b[0;34m]\u001b[0m\u001b[0;34m,\u001b[0m \u001b[0mcrime_engin2\u001b[0m\u001b[0;34m[\u001b[0m\u001b[0;34m'start_and_census'\u001b[0m\u001b[0;34m]\u001b[0m\u001b[0;34m)\u001b[0m\u001b[0;34m]\u001b[0m\u001b[0;34m)\u001b[0m\u001b[0;34m\u001b[0m\u001b[0m\n\u001b[1;32m     12\u001b[0m \u001b[0;34m\u001b[0m\u001b[0m\n\u001b[0;32m---> 13\u001b[0;31m \u001b[0mdf_5_hours\u001b[0m \u001b[0;34m=\u001b[0m \u001b[0mpd\u001b[0m\u001b[0;34m.\u001b[0m\u001b[0mDataFrame\u001b[0m\u001b[0;34m(\u001b[0m\u001b[0;34m[\u001b[0m\u001b[0mx\u001b[0m \u001b[0;32mfor\u001b[0m \u001b[0mx\u001b[0m \u001b[0;32min\u001b[0m \u001b[0mmap\u001b[0m\u001b[0;34m(\u001b[0m\u001b[0;32mlambda\u001b[0m \u001b[0mx\u001b[0m\u001b[0;34m:\u001b[0m \u001b[0mreturn_sum_over_slice\u001b[0m\u001b[0;34m(\u001b[0m\u001b[0mdf\u001b[0m\u001b[0;34m=\u001b[0m\u001b[0mcrime_engin\u001b[0m\u001b[0;34m,\u001b[0m \u001b[0mstart_time\u001b[0m\u001b[0;34m=\u001b[0m\u001b[0mx\u001b[0m\u001b[0;34m[\u001b[0m\u001b[0;36m0\u001b[0m\u001b[0;34m]\u001b[0m\u001b[0;34m,\u001b[0m \u001b[0mtime_window\u001b[0m\u001b[0;34m=\u001b[0m\u001b[0;36m300.0\u001b[0m\u001b[0;34m,\u001b[0m \u001b[0mcensus_tract\u001b[0m \u001b[0;34m=\u001b[0m \u001b[0mx\u001b[0m\u001b[0;34m[\u001b[0m\u001b[0;36m1\u001b[0m\u001b[0;34m]\u001b[0m\u001b[0;34m)\u001b[0m\u001b[0;34m[\u001b[0m\u001b[0;36m0\u001b[0m\u001b[0;34m:\u001b[0m\u001b[0;36m5\u001b[0m\u001b[0;34m]\u001b[0m\u001b[0;34m,\u001b[0m \u001b[0mcrime_engin2\u001b[0m\u001b[0;34m[\u001b[0m\u001b[0;34m'start_and_census'\u001b[0m\u001b[0;34m]\u001b[0m\u001b[0;34m)\u001b[0m\u001b[0;34m]\u001b[0m\u001b[0;34m)\u001b[0m\u001b[0;34m\u001b[0m\u001b[0m\n\u001b[0m\u001b[1;32m     14\u001b[0m \u001b[0;34m\u001b[0m\u001b[0m\n\u001b[1;32m     15\u001b[0m \u001b[0mdf_1_day\u001b[0m \u001b[0;34m=\u001b[0m \u001b[0mpd\u001b[0m\u001b[0;34m.\u001b[0m\u001b[0mDataFrame\u001b[0m\u001b[0;34m(\u001b[0m\u001b[0;34m[\u001b[0m\u001b[0mx\u001b[0m \u001b[0;32mfor\u001b[0m \u001b[0mx\u001b[0m \u001b[0;32min\u001b[0m \u001b[0mmap\u001b[0m\u001b[0;34m(\u001b[0m\u001b[0;32mlambda\u001b[0m \u001b[0mx\u001b[0m\u001b[0;34m:\u001b[0m \u001b[0mreturn_sum_over_slice\u001b[0m\u001b[0;34m(\u001b[0m\u001b[0mdf\u001b[0m\u001b[0;34m=\u001b[0m\u001b[0mcrime_engin\u001b[0m\u001b[0;34m,\u001b[0m \u001b[0mstart_time\u001b[0m\u001b[0;34m=\u001b[0m\u001b[0mx\u001b[0m\u001b[0;34m[\u001b[0m\u001b[0;36m0\u001b[0m\u001b[0;34m]\u001b[0m\u001b[0;34m,\u001b[0m \u001b[0mtime_window\u001b[0m\u001b[0;34m=\u001b[0m\u001b[0;36m1440.0\u001b[0m\u001b[0;34m,\u001b[0m \u001b[0mcensus_tract\u001b[0m \u001b[0;34m=\u001b[0m \u001b[0mx\u001b[0m\u001b[0;34m[\u001b[0m\u001b[0;36m1\u001b[0m\u001b[0;34m]\u001b[0m\u001b[0;34m)\u001b[0m\u001b[0;34m,\u001b[0m \u001b[0mcrime_engin2\u001b[0m\u001b[0;34m[\u001b[0m\u001b[0;34m'start_and_census'\u001b[0m\u001b[0;34m]\u001b[0m\u001b[0;34m)\u001b[0m\u001b[0;34m]\u001b[0m\u001b[0;34m)\u001b[0m\u001b[0;34m\u001b[0m\u001b[0m\n",
      "\u001b[0;32m<ipython-input-44-4ae2f2fe0315>\u001b[0m in \u001b[0;36m<lambda>\u001b[0;34m(x)\u001b[0m\n\u001b[1;32m     11\u001b[0m \u001b[0mdf_4_hours\u001b[0m \u001b[0;34m=\u001b[0m \u001b[0mpd\u001b[0m\u001b[0;34m.\u001b[0m\u001b[0mDataFrame\u001b[0m\u001b[0;34m(\u001b[0m\u001b[0;34m[\u001b[0m\u001b[0mx\u001b[0m \u001b[0;32mfor\u001b[0m \u001b[0mx\u001b[0m \u001b[0;32min\u001b[0m \u001b[0mmap\u001b[0m\u001b[0;34m(\u001b[0m\u001b[0;32mlambda\u001b[0m \u001b[0mx\u001b[0m\u001b[0;34m:\u001b[0m \u001b[0mreturn_sum_over_slice\u001b[0m\u001b[0;34m(\u001b[0m\u001b[0mdf\u001b[0m\u001b[0;34m=\u001b[0m\u001b[0mcrime_engin\u001b[0m\u001b[0;34m,\u001b[0m \u001b[0mstart_time\u001b[0m\u001b[0;34m=\u001b[0m\u001b[0mx\u001b[0m\u001b[0;34m[\u001b[0m\u001b[0;36m0\u001b[0m\u001b[0;34m]\u001b[0m\u001b[0;34m,\u001b[0m \u001b[0mtime_window\u001b[0m\u001b[0;34m=\u001b[0m\u001b[0;36m240.0\u001b[0m\u001b[0;34m,\u001b[0m \u001b[0mcensus_tract\u001b[0m \u001b[0;34m=\u001b[0m \u001b[0mx\u001b[0m\u001b[0;34m[\u001b[0m\u001b[0;36m1\u001b[0m\u001b[0;34m]\u001b[0m\u001b[0;34m)\u001b[0m\u001b[0;34m[\u001b[0m\u001b[0;36m0\u001b[0m\u001b[0;34m:\u001b[0m\u001b[0;36m5\u001b[0m\u001b[0;34m]\u001b[0m\u001b[0;34m,\u001b[0m \u001b[0mcrime_engin2\u001b[0m\u001b[0;34m[\u001b[0m\u001b[0;34m'start_and_census'\u001b[0m\u001b[0;34m]\u001b[0m\u001b[0;34m)\u001b[0m\u001b[0;34m]\u001b[0m\u001b[0;34m)\u001b[0m\u001b[0;34m\u001b[0m\u001b[0m\n\u001b[1;32m     12\u001b[0m \u001b[0;34m\u001b[0m\u001b[0m\n\u001b[0;32m---> 13\u001b[0;31m \u001b[0mdf_5_hours\u001b[0m \u001b[0;34m=\u001b[0m \u001b[0mpd\u001b[0m\u001b[0;34m.\u001b[0m\u001b[0mDataFrame\u001b[0m\u001b[0;34m(\u001b[0m\u001b[0;34m[\u001b[0m\u001b[0mx\u001b[0m \u001b[0;32mfor\u001b[0m \u001b[0mx\u001b[0m \u001b[0;32min\u001b[0m \u001b[0mmap\u001b[0m\u001b[0;34m(\u001b[0m\u001b[0;32mlambda\u001b[0m \u001b[0mx\u001b[0m\u001b[0;34m:\u001b[0m \u001b[0mreturn_sum_over_slice\u001b[0m\u001b[0;34m(\u001b[0m\u001b[0mdf\u001b[0m\u001b[0;34m=\u001b[0m\u001b[0mcrime_engin\u001b[0m\u001b[0;34m,\u001b[0m \u001b[0mstart_time\u001b[0m\u001b[0;34m=\u001b[0m\u001b[0mx\u001b[0m\u001b[0;34m[\u001b[0m\u001b[0;36m0\u001b[0m\u001b[0;34m]\u001b[0m\u001b[0;34m,\u001b[0m \u001b[0mtime_window\u001b[0m\u001b[0;34m=\u001b[0m\u001b[0;36m300.0\u001b[0m\u001b[0;34m,\u001b[0m \u001b[0mcensus_tract\u001b[0m \u001b[0;34m=\u001b[0m \u001b[0mx\u001b[0m\u001b[0;34m[\u001b[0m\u001b[0;36m1\u001b[0m\u001b[0;34m]\u001b[0m\u001b[0;34m)\u001b[0m\u001b[0;34m[\u001b[0m\u001b[0;36m0\u001b[0m\u001b[0;34m:\u001b[0m\u001b[0;36m5\u001b[0m\u001b[0;34m]\u001b[0m\u001b[0;34m,\u001b[0m \u001b[0mcrime_engin2\u001b[0m\u001b[0;34m[\u001b[0m\u001b[0;34m'start_and_census'\u001b[0m\u001b[0;34m]\u001b[0m\u001b[0;34m)\u001b[0m\u001b[0;34m]\u001b[0m\u001b[0;34m)\u001b[0m\u001b[0;34m\u001b[0m\u001b[0m\n\u001b[0m\u001b[1;32m     14\u001b[0m \u001b[0;34m\u001b[0m\u001b[0m\n\u001b[1;32m     15\u001b[0m \u001b[0mdf_1_day\u001b[0m \u001b[0;34m=\u001b[0m \u001b[0mpd\u001b[0m\u001b[0;34m.\u001b[0m\u001b[0mDataFrame\u001b[0m\u001b[0;34m(\u001b[0m\u001b[0;34m[\u001b[0m\u001b[0mx\u001b[0m \u001b[0;32mfor\u001b[0m \u001b[0mx\u001b[0m \u001b[0;32min\u001b[0m \u001b[0mmap\u001b[0m\u001b[0;34m(\u001b[0m\u001b[0;32mlambda\u001b[0m \u001b[0mx\u001b[0m\u001b[0;34m:\u001b[0m \u001b[0mreturn_sum_over_slice\u001b[0m\u001b[0;34m(\u001b[0m\u001b[0mdf\u001b[0m\u001b[0;34m=\u001b[0m\u001b[0mcrime_engin\u001b[0m\u001b[0;34m,\u001b[0m \u001b[0mstart_time\u001b[0m\u001b[0;34m=\u001b[0m\u001b[0mx\u001b[0m\u001b[0;34m[\u001b[0m\u001b[0;36m0\u001b[0m\u001b[0;34m]\u001b[0m\u001b[0;34m,\u001b[0m \u001b[0mtime_window\u001b[0m\u001b[0;34m=\u001b[0m\u001b[0;36m1440.0\u001b[0m\u001b[0;34m,\u001b[0m \u001b[0mcensus_tract\u001b[0m \u001b[0;34m=\u001b[0m \u001b[0mx\u001b[0m\u001b[0;34m[\u001b[0m\u001b[0;36m1\u001b[0m\u001b[0;34m]\u001b[0m\u001b[0;34m)\u001b[0m\u001b[0;34m,\u001b[0m \u001b[0mcrime_engin2\u001b[0m\u001b[0;34m[\u001b[0m\u001b[0;34m'start_and_census'\u001b[0m\u001b[0;34m]\u001b[0m\u001b[0;34m)\u001b[0m\u001b[0;34m]\u001b[0m\u001b[0;34m)\u001b[0m\u001b[0;34m\u001b[0m\u001b[0m\n",
      "\u001b[0;32m<ipython-input-41-940c43507201>\u001b[0m in \u001b[0;36mreturn_sum_over_slice\u001b[0;34m(df, start_time, time_window, census_tract)\u001b[0m\n\u001b[1;32m     12\u001b[0m \u001b[0;34m\u001b[0m\u001b[0m\n\u001b[1;32m     13\u001b[0m     \u001b[0;32mif\u001b[0m \u001b[0;34m(\u001b[0m\u001b[0mresult\u001b[0m\u001b[0;34m.\u001b[0m\u001b[0mempty\u001b[0m\u001b[0;34m==\u001b[0m\u001b[0;32mFalse\u001b[0m\u001b[0;34m)\u001b[0m\u001b[0;34m:\u001b[0m\u001b[0;34m\u001b[0m\u001b[0m\n\u001b[0;32m---> 14\u001b[0;31m         \u001b[0;32mreturn\u001b[0m \u001b[0;34m(\u001b[0m\u001b[0mresult\u001b[0m\u001b[0;34m[\u001b[0m\u001b[0;34m'property_crime'\u001b[0m\u001b[0;34m]\u001b[0m\u001b[0;34m.\u001b[0m\u001b[0msum\u001b[0m\u001b[0;34m(\u001b[0m\u001b[0;34m)\u001b[0m\u001b[0;34m,\u001b[0m \u001b[0mresult\u001b[0m\u001b[0;34m[\u001b[0m\u001b[0;34m'violent_crime'\u001b[0m\u001b[0;34m]\u001b[0m\u001b[0;34m.\u001b[0m\u001b[0msum\u001b[0m\u001b[0;34m(\u001b[0m\u001b[0;34m)\u001b[0m\u001b[0;34m,\u001b[0m \u001b[0mresult\u001b[0m\u001b[0;34m[\u001b[0m\u001b[0;34m'robbery'\u001b[0m\u001b[0;34m]\u001b[0m\u001b[0;34m.\u001b[0m\u001b[0msum\u001b[0m\u001b[0;34m(\u001b[0m\u001b[0;34m)\u001b[0m\u001b[0;34m,\u001b[0m                 \u001b[0mresult\u001b[0m\u001b[0;34m[\u001b[0m\u001b[0;34m'other_crime'\u001b[0m\u001b[0;34m]\u001b[0m\u001b[0;34m.\u001b[0m\u001b[0msum\u001b[0m\u001b[0;34m(\u001b[0m\u001b[0;34m)\u001b[0m\u001b[0;34m,\u001b[0m \u001b[0mresult\u001b[0m\u001b[0;34m[\u001b[0m\u001b[0;34m'any_crime'\u001b[0m\u001b[0;34m]\u001b[0m\u001b[0;34m.\u001b[0m\u001b[0msum\u001b[0m\u001b[0;34m(\u001b[0m\u001b[0;34m)\u001b[0m\u001b[0;34m,\u001b[0m \u001b[0mresult\u001b[0m\u001b[0;34m[\u001b[0m\u001b[0;34m'non_payment'\u001b[0m\u001b[0;34m]\u001b[0m\u001b[0;34m.\u001b[0m\u001b[0msum\u001b[0m\u001b[0;34m(\u001b[0m\u001b[0;34m)\u001b[0m\u001b[0;34m,\u001b[0m                 \u001b[0mresult\u001b[0m\u001b[0;34m[\u001b[0m\u001b[0;34m'illegal_use'\u001b[0m\u001b[0;34m]\u001b[0m\u001b[0;34m.\u001b[0m\u001b[0msum\u001b[0m\u001b[0;34m(\u001b[0m\u001b[0;34m)\u001b[0m\u001b[0;34m,\u001b[0m \u001b[0mresult\u001b[0m\u001b[0;34m[\u001b[0m\u001b[0;34m'eviction'\u001b[0m\u001b[0;34m]\u001b[0m\u001b[0;34m.\u001b[0m\u001b[0msum\u001b[0m\u001b[0;34m(\u001b[0m\u001b[0;34m)\u001b[0m\u001b[0;34m)\u001b[0m\u001b[0;34m\u001b[0m\u001b[0m\n\u001b[0m\u001b[1;32m     15\u001b[0m     \u001b[0;32melse\u001b[0m\u001b[0;34m:\u001b[0m\u001b[0;34m\u001b[0m\u001b[0m\n\u001b[1;32m     16\u001b[0m         \u001b[0;32mreturn\u001b[0m \u001b[0;34m(\u001b[0m\u001b[0;36m0\u001b[0m\u001b[0;34m,\u001b[0m \u001b[0;36m0\u001b[0m\u001b[0;34m,\u001b[0m \u001b[0;36m0\u001b[0m\u001b[0;34m,\u001b[0m \u001b[0;36m0\u001b[0m\u001b[0;34m,\u001b[0m \u001b[0;36m0\u001b[0m\u001b[0;34m,\u001b[0m \u001b[0;36m0\u001b[0m\u001b[0;34m,\u001b[0m \u001b[0;36m0\u001b[0m\u001b[0;34m,\u001b[0m \u001b[0;36m0\u001b[0m\u001b[0;34m)\u001b[0m\u001b[0;34m\u001b[0m\u001b[0m\n",
      "\u001b[0;32m/anaconda/lib/python3.6/site-packages/pandas/core/generic.py\u001b[0m in \u001b[0;36mstat_func\u001b[0;34m(self, axis, skipna, level, numeric_only, **kwargs)\u001b[0m\n\u001b[1;32m   7226\u001b[0m                                       skipna=skipna)\n\u001b[1;32m   7227\u001b[0m         return self._reduce(f, name, axis=axis, skipna=skipna,\n\u001b[0;32m-> 7228\u001b[0;31m                             numeric_only=numeric_only)\n\u001b[0m\u001b[1;32m   7229\u001b[0m \u001b[0;34m\u001b[0m\u001b[0m\n\u001b[1;32m   7230\u001b[0m     \u001b[0;32mreturn\u001b[0m \u001b[0mset_function_name\u001b[0m\u001b[0;34m(\u001b[0m\u001b[0mstat_func\u001b[0m\u001b[0;34m,\u001b[0m \u001b[0mname\u001b[0m\u001b[0;34m,\u001b[0m \u001b[0mcls\u001b[0m\u001b[0;34m)\u001b[0m\u001b[0;34m\u001b[0m\u001b[0m\n",
      "\u001b[0;32m/anaconda/lib/python3.6/site-packages/pandas/core/series.py\u001b[0m in \u001b[0;36m_reduce\u001b[0;34m(self, op, name, axis, skipna, numeric_only, filter_type, **kwds)\u001b[0m\n\u001b[1;32m   2534\u001b[0m                                           'numeric_only.'.format(name))\n\u001b[1;32m   2535\u001b[0m             \u001b[0;32mwith\u001b[0m \u001b[0mnp\u001b[0m\u001b[0;34m.\u001b[0m\u001b[0merrstate\u001b[0m\u001b[0;34m(\u001b[0m\u001b[0mall\u001b[0m\u001b[0;34m=\u001b[0m\u001b[0;34m'ignore'\u001b[0m\u001b[0;34m)\u001b[0m\u001b[0;34m:\u001b[0m\u001b[0;34m\u001b[0m\u001b[0m\n\u001b[0;32m-> 2536\u001b[0;31m                 \u001b[0;32mreturn\u001b[0m \u001b[0mop\u001b[0m\u001b[0;34m(\u001b[0m\u001b[0mdelegate\u001b[0m\u001b[0;34m,\u001b[0m \u001b[0mskipna\u001b[0m\u001b[0;34m=\u001b[0m\u001b[0mskipna\u001b[0m\u001b[0;34m,\u001b[0m \u001b[0;34m**\u001b[0m\u001b[0mkwds\u001b[0m\u001b[0;34m)\u001b[0m\u001b[0;34m\u001b[0m\u001b[0m\n\u001b[0m\u001b[1;32m   2537\u001b[0m \u001b[0;34m\u001b[0m\u001b[0m\n\u001b[1;32m   2538\u001b[0m         return delegate._reduce(op=op, name=name, axis=axis, skipna=skipna,\n",
      "\u001b[0;32m/anaconda/lib/python3.6/site-packages/numpy/core/numeric.py\u001b[0m in \u001b[0;36m__exit__\u001b[0;34m(self, *exc_info)\u001b[0m\n\u001b[1;32m   3067\u001b[0m             \u001b[0mself\u001b[0m\u001b[0;34m.\u001b[0m\u001b[0moldcall\u001b[0m \u001b[0;34m=\u001b[0m \u001b[0mseterrcall\u001b[0m\u001b[0;34m(\u001b[0m\u001b[0mself\u001b[0m\u001b[0;34m.\u001b[0m\u001b[0mcall\u001b[0m\u001b[0;34m)\u001b[0m\u001b[0;34m\u001b[0m\u001b[0m\n\u001b[1;32m   3068\u001b[0m \u001b[0;34m\u001b[0m\u001b[0m\n\u001b[0;32m-> 3069\u001b[0;31m     \u001b[0;32mdef\u001b[0m \u001b[0m__exit__\u001b[0m\u001b[0;34m(\u001b[0m\u001b[0mself\u001b[0m\u001b[0;34m,\u001b[0m \u001b[0;34m*\u001b[0m\u001b[0mexc_info\u001b[0m\u001b[0;34m)\u001b[0m\u001b[0;34m:\u001b[0m\u001b[0;34m\u001b[0m\u001b[0m\n\u001b[0m\u001b[1;32m   3070\u001b[0m         \u001b[0mseterr\u001b[0m\u001b[0;34m(\u001b[0m\u001b[0;34m**\u001b[0m\u001b[0mself\u001b[0m\u001b[0;34m.\u001b[0m\u001b[0moldstate\u001b[0m\u001b[0;34m)\u001b[0m\u001b[0;34m\u001b[0m\u001b[0m\n\u001b[1;32m   3071\u001b[0m         \u001b[0;32mif\u001b[0m \u001b[0mself\u001b[0m\u001b[0;34m.\u001b[0m\u001b[0mcall\u001b[0m \u001b[0;32mis\u001b[0m \u001b[0;32mnot\u001b[0m \u001b[0m_Unspecified\u001b[0m\u001b[0;34m:\u001b[0m\u001b[0;34m\u001b[0m\u001b[0m\n",
      "\u001b[0;31mKeyboardInterrupt\u001b[0m: "
     ]
    }
   ],
   "source": [
    "import time \n",
    "start = time.time()\n",
    "\n",
    "# Past crimes\n",
    "df_1_hour = pd.DataFrame([x for x in map(lambda x: return_sum_over_slice(df=crime_engin, start_time=x[0], time_window=60.0, census_tract = x[1])[0:5], crime_engin2['start_and_census'])])\n",
    "\n",
    "df_2_hours = pd.DataFrame([x for x in map(lambda x: return_sum_over_slice(df=crime_engin, start_time=x[0], time_window=120.0, census_tract = x[1])[0:5], crime_engin2['start_and_census'])])\n",
    "\n",
    "df_3_hours = pd.DataFrame([x for x in map(lambda x: return_sum_over_slice(df=crime_engin, start_time=x[0], time_window=180.0, census_tract = x[1])[0:5], crime_engin2['start_and_census'])])\n",
    "\n",
    "df_4_hours = pd.DataFrame([x for x in map(lambda x: return_sum_over_slice(df=crime_engin, start_time=x[0], time_window=240.0, census_tract = x[1])[0:5], crime_engin2['start_and_census'])])\n",
    "\n",
    "df_5_hours = pd.DataFrame([x for x in map(lambda x: return_sum_over_slice(df=crime_engin, start_time=x[0], time_window=300.0, census_tract = x[1])[0:5], crime_engin2['start_and_census'])])\n",
    "\n",
    "df_1_day = pd.DataFrame([x for x in map(lambda x: return_sum_over_slice(df=crime_engin, start_time=x[0], time_window=1440.0, census_tract = x[1]), crime_engin2['start_and_census'])])\n",
    "\n",
    "df_2_days = pd.DataFrame([x for x in map(lambda x: return_sum_over_slice(df=crime_engin, start_time=x[0], time_window=2880.0, census_tract = x[1]), crime_engin2['start_and_census'])])\n",
    "\n",
    "df_3_days = pd.DataFrame([x for x in map(lambda x: return_sum_over_slice(df=crime_engin, start_time=x[0], time_window=4320.0, census_tract = x[1]), crime_engin2['start_and_census'])])\n",
    "\n",
    "df_7_days = pd.DataFrame([x for x in map(lambda x: return_sum_over_slice(df=crime_engin, start_time=x[0], time_window=10080.0, census_tract = x[1]), crime_engin2['start_and_census'])])\n",
    "\n",
    "df_14_days = pd.DataFrame([x for x in map(lambda x: return_sum_over_slice(df=crime_engin, start_time=x[0], time_window=20160.0, census_tract = x[1]), crime_engin2['start_and_census'])])\n",
    "\n",
    "# Give names to columns\n",
    "df_1_hour.columns = ['property_last_1_hour', 'violent_last_1_hour', 'robbery_last_1_hour', 'other_last_1_hour', 'any_last_1_hour']\n",
    "df_2_hours.columns = ['property_last_2_hours', 'violent_last_2_hours', 'robbery_last_2_hours', 'other_last_2_hours', 'any_last_2_hours']\n",
    "df_3_hours.columns = ['property_last_3_hours', 'violent_last_3_hours', 'robbery_last_3_hours', 'other_last_3_hours', 'any_last_3_hours']\n",
    "df_4_hours.columns = ['property_last_4_hours', 'violent_last_4_hours', 'robbery_last_4_hours', 'other_last_4_hours', 'any_last_4_hours']\n",
    "df_5_hours.columns = ['property_last_5_hours', 'violent_last_5_hours', 'robbery_last_5_hours', 'other_last_5_hours', 'any_last_5_hours']\n",
    "df_1_day.columns = ['property_last_1_day', 'violent_last_1_day', 'robbery_last_1_day', 'other_last_1_day', 'any_last_1_day', 'nonpay_last_1_day', 'illegal_last_1_day', 'evict_last_1_day']\n",
    "df_2_days.columns = ['property_last_2_days', 'violent_last_2_days', 'robbery_last_2_days', 'other_last_2_days', 'any_last_2_days', 'nonpay_last_2_days', 'illegal_last_2_days', 'evict_last_2_days']\n",
    "df_3_days.columns = ['property_last_3_days', 'violent_last_3_days', 'robbery_last_3_days', 'other_last_3_days', 'any_last_3_days', 'nonpay_last_3_days', 'illegal_last_3_days', 'evict_last_3_days']\n",
    "df_7_days.columns = ['property_last_7_days', 'violent_last_7_days', 'robbery_last_7_days', 'other_last_7_days', 'any_last_7_days', 'nonpay_last_7_days', 'illegal_last_7_days', 'evict_last_7_days']\n",
    "df_14_days.columns = ['property_last_14_days', 'violent_last_14_days', 'robbery_last_14_days', 'other_last_14_days', 'any_last_14_days', 'nonpay_last_14_days', 'illegal_last_14_days', 'evict_last_14_days']\n",
    "\n",
    "end = time.time()\n",
    "print(\"Time to run:\", end-start, \"seconds\")"
   ]
  },
  {
   "cell_type": "code",
   "execution_count": null,
   "metadata": {
    "collapsed": true
   },
   "outputs": [],
   "source": [
    "start = time.time()\n",
    "\n",
    "crime_engin2['future_property_1_hour'] = [convert_to_binary(x) for x in map(lambda x: return_sum_over_slice(df=crime_engin, \\\n",
    "                                        start_time=(x[0] + 60.0), time_window=59.99, \\\n",
    "                                        census_tract = x[1])[0], crime_engin2['start_and_census'])]\n",
    "\n",
    "crime_engin2['future_violent_1_hour'] = [convert_to_binary(x) for x in map(lambda x: return_sum_over_slice(df=crime_engin, \\\n",
    "                                        start_time=(x[0] + 60.0), time_window=59.99, \\\n",
    "                                        census_tract = x[1])[1], crime_engin2['start_and_census'])]\n",
    "\n",
    "crime_engin2['future_robbery_1_hour'] = [convert_to_binary(x) for x in map(lambda x: return_sum_over_slice(df=crime_engin, \\\n",
    "                                        start_time=(x[0] + 60.0), time_window=59.99, \\\n",
    "                                        census_tract = x[1])[2], crime_engin2['start_and_census'])]\n",
    "\n",
    "crime_engin2['future_other_1_hour'] = [convert_to_binary(x) for x in map(lambda x: return_sum_over_slice(df=crime_engin, \\\n",
    "                                        start_time=(x[0] + 60.0), time_window=59.99, \\\n",
    "                                        census_tract = x[1])[3], crime_engin2['start_and_census'])]\n",
    "\n",
    "crime_engin2['future_any_1_hour'] = [convert_to_binary(x) for x in map(lambda x: return_sum_over_slice(df=crime_engin, \\\n",
    "                                        start_time=(x[0] + 60.0), time_window=59.99, \\\n",
    "                                        census_tract = x[1])[4], crime_engin2['start_and_census'])]\n",
    "\n",
    "end = time.time()\n",
    "print(\"Time to run:\", end-start, \"seconds\")"
   ]
  },
  {
   "cell_type": "code",
   "execution_count": null,
   "metadata": {
    "collapsed": true
   },
   "outputs": [],
   "source": [
    "# Merge on new features \n",
    "crime_engin2.reset_index(inplace=True, drop=True)\n",
    "crime_concat = pd.concat([crime_engin2, df_1_hour, df_2_hours, df_3_hours, df_4_hours, df_5_hours, \\\n",
    "                          df_1_day, df_2_days, df_3_days, df_7_days, df_14_days], axis=1)"
   ]
  },
  {
   "cell_type": "code",
   "execution_count": null,
   "metadata": {
    "collapsed": true
   },
   "outputs": [],
   "source": [
    "print(crime_engin2.shape)\n",
    "print(crime_concat.shape)\n",
    "#print(list(crime_engin2))\n",
    "print(list(crime_concat))"
   ]
  },
  {
   "cell_type": "markdown",
   "metadata": {},
   "source": [
    "First idea for classifier: Build a neural network that predicts whether a crime will happen based on features. In order to do that, create a \"crime occurred in the future in that census tract\" indicator at a certain timescale (try 6 hours to start). The algorithm will learn to classify this label on the training data, and hopefully will also accurately predict on the test (held-out) data."
   ]
  },
  {
   "cell_type": "code",
   "execution_count": null,
   "metadata": {
    "collapsed": true
   },
   "outputs": [],
   "source": [
    "print(crime_concat['future_any_1_hour'].head(25))"
   ]
  },
  {
   "cell_type": "code",
   "execution_count": null,
   "metadata": {
    "collapsed": true
   },
   "outputs": [],
   "source": [
    "print(crime_concat['future_property_1_hour'].value_counts())\n",
    "print(crime_concat['future_violent_1_hour'].value_counts())\n",
    "print(crime_concat['future_robbery_1_hour'].value_counts())\n",
    "print(crime_concat['future_other_1_hour'].value_counts())\n",
    "print(crime_concat['future_any_1_hour'].value_counts())"
   ]
  },
  {
   "cell_type": "code",
   "execution_count": null,
   "metadata": {
    "collapsed": true
   },
   "outputs": [],
   "source": [
    "print(list(crime_concat))"
   ]
  },
  {
   "cell_type": "code",
   "execution_count": null,
   "metadata": {
    "collapsed": true
   },
   "outputs": [],
   "source": [
    "# Value counts for eviction variables\n",
    "print(crime_concat['evict_last_7_days'].value_counts())\n",
    "print(crime_concat['nonpay_last_7_days'].value_counts())\n",
    "print(crime_concat['illegal_last_7_days'].value_counts())"
   ]
  },
  {
   "cell_type": "code",
   "execution_count": null,
   "metadata": {
    "collapsed": true
   },
   "outputs": [],
   "source": [
    "# One hot encode census tracts\n",
    "#print(len(crime_engin2['census_tr'].unique()))\n",
    "census_one_hot = pd.get_dummies(crime_concat['census_tr'], prefix='ct')\n",
    "crime_engin3 = pd.concat([crime_concat, census_one_hot], axis=1)\n",
    "print(crime_engin3.shape)"
   ]
  },
  {
   "cell_type": "code",
   "execution_count": null,
   "metadata": {
    "collapsed": true
   },
   "outputs": [],
   "source": [
    "# Run this at the end to restrict to only variables that will be fed to network\n",
    "crime_engin_final = crime_engin3.drop(['Category', 'DayOfWeek', 'datetime', 'date', 'year', 'time', 'month', \\\n",
    "                                      'census_tr', 'property_crime', 'violent_crime', 'robbery', 'other_crime', 'hour', \\\n",
    "                                      'min_elapsed', 'any_crime', 'start_and_census', 'eviction', \\\n",
    "                                      'illegal_use', 'non_payment'], axis=1)"
   ]
  },
  {
   "cell_type": "code",
   "execution_count": null,
   "metadata": {
    "collapsed": true
   },
   "outputs": [],
   "source": [
    "print(list(crime_engin_final))"
   ]
  },
  {
   "cell_type": "code",
   "execution_count": null,
   "metadata": {
    "collapsed": true
   },
   "outputs": [],
   "source": [
    "crime_engin_final.to_csv('~/Desktop/project1030/SF/training data/training data_200_250.csv', index=False)"
   ]
  },
  {
   "cell_type": "markdown",
   "metadata": {},
   "source": []
  }
 ],
 "metadata": {
  "kernelspec": {
   "display_name": "Python 3",
   "language": "python",
   "name": "python3"
  },
  "language_info": {
   "codemirror_mode": {
    "name": "ipython",
    "version": 3
   },
   "file_extension": ".py",
   "mimetype": "text/x-python",
   "name": "python",
   "nbconvert_exporter": "python",
   "pygments_lexer": "ipython3",
   "version": "3.6.1"
  }
 },
 "nbformat": 4,
 "nbformat_minor": 2
}
