{
 "cells": [
  {
   "cell_type": "markdown",
   "metadata": {},
   "source": [
    "Create neural network classifier that predicts whether a crime will occur in a given timescale in a given region (census tract)"
   ]
  },
  {
   "cell_type": "code",
   "execution_count": 25,
   "metadata": {},
   "outputs": [
    {
     "name": "stdout",
     "output_type": "stream",
     "text": [
      "(193159, 321)\n"
     ]
    }
   ],
   "source": [
    "import numpy as np\n",
    "import pandas as pd\n",
    "from sklearn.model_selection import train_test_split\n",
    "\n",
    "# Stack train/test data (remember we have future data and need to remove!)\n",
    "df_1 = pd.read_csv('~/Desktop/project1030/SF/training data/training data.csv')\n",
    "df_2 = pd.read_csv('~/Desktop/project1030/SF/training data/training data_50_100.csv')\n",
    "df_3 = pd.read_csv('~/Desktop/project1030/SF/training data/training data_100_150.csv')\n",
    "df_4 = pd.read_csv('~/Desktop/project1030/SF/training data/training data_150_200.csv')\n",
    "\n",
    "crime_pred = (df_1.append(df_2, ignore_index=True).append(df_3, ignore_index=True).append(df_4, ignore_index=True))\n",
    "print(crime_pred.shape)"
   ]
  },
  {
   "cell_type": "code",
   "execution_count": 26,
   "metadata": {},
   "outputs": [
    {
     "name": "stdout",
     "output_type": "stream",
     "text": [
      "(193159, 317)\n"
     ]
    }
   ],
   "source": [
    "crime_pred.drop(['future_violent_1_hour', 'future_robbery_1_hour', \\\n",
    "                 'future_other_1_hour', 'future_property_1_hour',], axis=1, inplace=True)\n",
    "print(crime_pred.shape)\n",
    "\n",
    "Y = np.array(crime_pred['future_any_1_hour'])\n",
    "X = crime_pred.drop(['future_any_1_hour'], axis=1).as_matrix()"
   ]
  },
  {
   "cell_type": "code",
   "execution_count": 27,
   "metadata": {},
   "outputs": [
    {
     "name": "stdout",
     "output_type": "stream",
     "text": [
      "(154000, 316)\n",
      "(39159, 316)\n",
      "(154000,)\n",
      "(39159,)\n"
     ]
    }
   ],
   "source": [
    "# Roughly 80/20 split\n",
    "X_train = X[0:154000, :]\n",
    "X_test = X[154000:, :]\n",
    "Y_train = Y[0:154000]\n",
    "Y_test = Y[154000:]\n",
    "print(X_train.shape)\n",
    "print(X_test.shape)\n",
    "print(Y_train.shape)\n",
    "print(Y_test.shape)"
   ]
  },
  {
   "cell_type": "code",
   "execution_count": 23,
   "metadata": {},
   "outputs": [
    {
     "name": "stdout",
     "output_type": "stream",
     "text": [
      "0.847442478102\n",
      "0.757447511578\n"
     ]
    }
   ],
   "source": [
    "# Random forest\n",
    "from sklearn.ensemble import RandomForestClassifier\n",
    "from sklearn.metrics import roc_curve, auc\n",
    "\n",
    "rf_clf = RandomForestClassifier(n_estimators=60, criterion='entropy', n_jobs=-1, max_depth=4)\n",
    "rf_clf.fit(X_train, Y_train)\n",
    "\n",
    "rf_pred = rf_clf.predict(X_test)\n",
    "rf_probs = rf_clf.predict_proba(X_test)[:, 1]\n",
    "\n",
    "equality_rf = np.equal(rf_pred, Y_test)\n",
    "print(equality_rf.astype(int).mean())\n",
    "\n",
    "false_positive_rate, true_positive_rate, thresholds = roc_curve(Y_test, rf_probs)\n",
    "roc_auc_rf = auc(false_positive_rate, true_positive_rate)\n",
    "print(roc_auc_rf)"
   ]
  },
  {
   "cell_type": "code",
   "execution_count": 25,
   "metadata": {},
   "outputs": [
    {
     "name": "stdout",
     "output_type": "stream",
     "text": [
      "0.848910675381\n"
     ]
    }
   ],
   "source": [
    "from sklearn.model_selection import GridSearchCV\n",
    "\n",
    "# Optimize hyperparameters\n",
    "params = {\"max_features\": [None], \\\n",
    "          \"n_estimators\": [60, 80, 100], \"criterion\": [\"entropy\"], \\\n",
    "          \"max_depth\": [3, 4]}\n",
    "\n",
    "grid_search_rf = GridSearchCV(estimator = rf_clf, param_grid= params, n_jobs=-1)\n",
    "\n",
    "grid_search_rf.fit(X_train, Y_train)\n",
    "\n",
    "grid_pred = grid_search_rf.predict(X_test)\n",
    "grid_probs = grid_search_rf.predict_proba(X_test)[:, 1]\n",
    "\n",
    "equality_grid = np.equal(grid_pred, Y_test)\n",
    "print(equality_grid.astype(int).mean())"
   ]
  },
  {
   "cell_type": "code",
   "execution_count": 26,
   "metadata": {},
   "outputs": [
    {
     "name": "stdout",
     "output_type": "stream",
     "text": [
      "{'criterion': 'entropy', 'max_depth': 4, 'max_features': None, 'n_estimators': 60}\n"
     ]
    }
   ],
   "source": [
    "print(grid_search_rf.best_params_)"
   ]
  },
  {
   "cell_type": "code",
   "execution_count": 17,
   "metadata": {},
   "outputs": [
    {
     "ename": "NameError",
     "evalue": "name 'grid_probs' is not defined",
     "output_type": "error",
     "traceback": [
      "\u001b[0;31m---------------------------------------------------------------------------\u001b[0m",
      "\u001b[0;31mNameError\u001b[0m                                 Traceback (most recent call last)",
      "\u001b[0;32m<ipython-input-17-509f8d3aa9e3>\u001b[0m in \u001b[0;36m<module>\u001b[0;34m()\u001b[0m\n\u001b[1;32m      1\u001b[0m \u001b[0;32mfrom\u001b[0m \u001b[0msklearn\u001b[0m\u001b[0;34m.\u001b[0m\u001b[0mmetrics\u001b[0m \u001b[0;32mimport\u001b[0m \u001b[0mroc_curve\u001b[0m\u001b[0;34m,\u001b[0m \u001b[0mauc\u001b[0m\u001b[0;34m\u001b[0m\u001b[0m\n\u001b[0;32m----> 2\u001b[0;31m \u001b[0mfalse_positive_rate\u001b[0m\u001b[0;34m,\u001b[0m \u001b[0mtrue_positive_rate\u001b[0m\u001b[0;34m,\u001b[0m \u001b[0mthresholds\u001b[0m \u001b[0;34m=\u001b[0m \u001b[0mroc_curve\u001b[0m\u001b[0;34m(\u001b[0m\u001b[0mY_test\u001b[0m\u001b[0;34m,\u001b[0m \u001b[0mgrid_probs\u001b[0m\u001b[0;34m)\u001b[0m\u001b[0;34m\u001b[0m\u001b[0m\n\u001b[0m\u001b[1;32m      3\u001b[0m \u001b[0mroc_auc\u001b[0m \u001b[0;34m=\u001b[0m \u001b[0mauc\u001b[0m\u001b[0;34m(\u001b[0m\u001b[0mfalse_positive_rate\u001b[0m\u001b[0;34m,\u001b[0m \u001b[0mtrue_positive_rate\u001b[0m\u001b[0;34m)\u001b[0m\u001b[0;34m\u001b[0m\u001b[0m\n\u001b[1;32m      4\u001b[0m \u001b[0mprint\u001b[0m\u001b[0;34m(\u001b[0m\u001b[0mroc_auc\u001b[0m\u001b[0;34m)\u001b[0m\u001b[0;34m\u001b[0m\u001b[0m\n",
      "\u001b[0;31mNameError\u001b[0m: name 'grid_probs' is not defined"
     ]
    }
   ],
   "source": [
    "from sklearn.metrics import roc_curve, auc\n",
    "false_positive_rate, true_positive_rate, thresholds = roc_curve(Y_test, grid_probs)\n",
    "roc_auc = auc(false_positive_rate, true_positive_rate)\n",
    "print(roc_auc)"
   ]
  },
  {
   "cell_type": "code",
   "execution_count": 30,
   "metadata": {},
   "outputs": [
    {
     "data": {
      "image/png": "[encoded data removed]",
      "text/plain": [
       "<matplotlib.figure.Figure at 0x1a23699f60>"
      ]
     },
     "metadata": {},
     "output_type": "display_data"
    }
   ],
   "source": [
    "import matplotlib.pyplot as plt\n",
    "\n",
    "plt.title('Receiver Operating Characteristic')\n",
    "plt.plot(false_positive_rate, true_positive_rate, 'b', \\\n",
    "label='AUC = %0.2f'% roc_auc)\n",
    "\n",
    "plt.legend(loc='lower right')\n",
    "plt.plot([0,1],[0,1],'r--')\n",
    "plt.xlim([-0.1,1.2])\n",
    "plt.ylim([-0.1,1.2])\n",
    "plt.ylabel('True Positive Rate')\n",
    "plt.xlabel('False Positive Rate')\n",
    "plt.show()"
   ]
  },
  {
   "cell_type": "code",
   "execution_count": 5,
   "metadata": {},
   "outputs": [
    {
     "name": "stdout",
     "output_type": "stream",
     "text": [
      "0.849025766746\n",
      "0.767647050021\n"
     ]
    }
   ],
   "source": [
    "from sklearn.linear_model import LogisticRegression\n",
    "from sklearn.metrics import roc_curve, auc\n",
    "\n",
    "lg_clf = LogisticRegression()\n",
    "lg_clf.fit(X_train, Y_train)\n",
    "\n",
    "lg_pred = lg_clf.predict(X_test)\n",
    "lg_probs = lg_clf.predict_proba(X_test)[:, 1]\n",
    "\n",
    "equality_lg = np.equal(lg_pred, Y_test)\n",
    "print(equality_lg.astype(int).mean())\n",
    "\n",
    "false_positive_rate, true_positive_rate, thresholds = roc_curve(Y_test, lg_probs)\n",
    "roc_auc_lg = auc(false_positive_rate, true_positive_rate)\n",
    "print(roc_auc_lg)"
   ]
  },
  {
   "cell_type": "code",
   "execution_count": 12,
   "metadata": {},
   "outputs": [
    {
     "name": "stdout",
     "output_type": "stream",
     "text": [
      "0.844989106754\n",
      "0.749972048788\n"
     ]
    }
   ],
   "source": [
    "from sklearn.model_selection import GridSearchCV\n",
    "\n",
    "lg_params = {\"penalty\": ['l1', 'l2'], \\\n",
    "             \"C\": [0.1, 0.3, 0.5, 1.0, 2.0]}\n",
    "\n",
    "grid_search_lg = GridSearchCV(estimator = lg_clf, param_grid=lg_params)\n",
    "\n",
    "grid_search_lg.fit(X_train, Y_train)\n",
    "\n",
    "grid_lg_pred = grid_search_lg.predict(X_test)\n",
    "grid_lg_probs = grid_search_lg.predict_proba(X_test)[:, 1]\n",
    "\n",
    "equality_grid_lg = np.equal(grid_lg_pred, Y_test)\n",
    "print(equality_grid_lg.astype(int).mean())\n",
    "\n",
    "false_positive_rate, true_positive_rate, thresholds = roc_curve(Y_test, grid_lg_probs)\n",
    "roc_auc_grid_lg = auc(false_positive_rate, true_positive_rate)\n",
    "print(roc_auc_grid_lg)"
   ]
  },
  {
   "cell_type": "code",
   "execution_count": 13,
   "metadata": {},
   "outputs": [
    {
     "name": "stdout",
     "output_type": "stream",
     "text": [
      "{'C': 1.0, 'penalty': 'l1'}\n"
     ]
    }
   ],
   "source": [
    "print(grid_search_lg.best_params_)"
   ]
  },
  {
   "cell_type": "code",
   "execution_count": 93,
   "metadata": {},
   "outputs": [
    {
     "name": "stdout",
     "output_type": "stream",
     "text": [
      "0.909752547307\n",
      "0.760152556715\n"
     ]
    }
   ],
   "source": [
    "from sklearn.ensemble import BaggingClassifier\n",
    "\n",
    "bag_clf = BaggingClassifier(n_estimators=50, max_samples = 0.8, max_features = 0.1, n_jobs=-1)\n",
    "bag_clf.fit(X_train, Y_train)\n",
    "\n",
    "bag_pred = bag_clf.predict(X_test)\n",
    "bag_probs = bag_clf.predict_proba(X_test)[:, 1]\n",
    "equality_bag = np.equal(bag_pred, Y_test)\n",
    "print(equality_bag.astype(int).mean())\n",
    "\n",
    "false_positive_rate, true_positive_rate, thresholds = roc_curve(Y_test, bag_probs)\n",
    "roc_auc_bag = auc(false_positive_rate, true_positive_rate)\n",
    "print(roc_auc_bag)"
   ]
  },
  {
   "cell_type": "code",
   "execution_count": 44,
   "metadata": {},
   "outputs": [
    {
     "name": "stdout",
     "output_type": "stream",
     "text": [
      "0.844444444444\n",
      "0.741953227095\n"
     ]
    }
   ],
   "source": [
    "bag_params = {\"max_samples\": [0.1, 0.3, 0.5], \\\n",
    "          \"n_estimators\": [50], \"max_features\": [.05, 0.1]}\n",
    "\n",
    "grid_search_bag = GridSearchCV(estimator = bag_clf, param_grid=bag_params)\n",
    "\n",
    "grid_search_bag.fit(X_train, Y_train)\n",
    "\n",
    "grid_pred = grid_search_bag.predict(X_test)\n",
    "grid_probs = grid_search_bag.predict_proba(X_test)[:, 1]\n",
    "\n",
    "equality_grid = np.equal(grid_pred, Y_test)\n",
    "print(equality_grid.astype(int).mean())\n",
    "\n",
    "false_positive_rate, true_positive_rate, thresholds = roc_curve(Y_test, grid_probs)\n",
    "roc_auc = auc(false_positive_rate, true_positive_rate)\n",
    "print(roc_auc)"
   ]
  },
  {
   "cell_type": "code",
   "execution_count": 45,
   "metadata": {},
   "outputs": [
    {
     "name": "stdout",
     "output_type": "stream",
     "text": [
      "{'max_features': 0.1, 'max_samples': 0.3, 'n_estimators': 50}\n"
     ]
    }
   ],
   "source": [
    "print(grid_search_bag.best_params_)"
   ]
  },
  {
   "cell_type": "code",
   "execution_count": 28,
   "metadata": {},
   "outputs": [
    {
     "name": "stdout",
     "output_type": "stream",
     "text": [
      "0.847697847238\n",
      "0.76348395439\n"
     ]
    }
   ],
   "source": [
    "from sklearn.ensemble import AdaBoostClassifier\n",
    "\n",
    "ada_clf = AdaBoostClassifier()\n",
    "ada_clf.fit(X_train, Y_train)\n",
    "\n",
    "ada_pred = ada_clf.predict(X_test)\n",
    "ada_probs = ada_clf.predict_proba(X_test)[:, 1]\n",
    "equality_ada = np.equal(ada_pred, Y_test)\n",
    "print(equality_ada.astype(int).mean())\n",
    "\n",
    "false_positive_rate, true_positive_rate, thresholds = roc_curve(Y_test, ada_probs)\n",
    "roc_auc_ada = auc(false_positive_rate, true_positive_rate)\n",
    "print(roc_auc_ada)"
   ]
  },
  {
   "cell_type": "code",
   "execution_count": 29,
   "metadata": {},
   "outputs": [
    {
     "ename": "KeyboardInterrupt",
     "evalue": "",
     "output_type": "error",
     "traceback": [
      "\u001b[0;31m---------------------------------------------------------------------------\u001b[0m",
      "\u001b[0;31mKeyboardInterrupt\u001b[0m                         Traceback (most recent call last)",
      "\u001b[0;32m<ipython-input-29-d2fe37ba842e>\u001b[0m in \u001b[0;36m<module>\u001b[0;34m()\u001b[0m\n\u001b[1;32m      2\u001b[0m \u001b[0;34m\u001b[0m\u001b[0m\n\u001b[1;32m      3\u001b[0m \u001b[0mgrad_clf\u001b[0m \u001b[0;34m=\u001b[0m \u001b[0mGradientBoostingClassifier\u001b[0m\u001b[0;34m(\u001b[0m\u001b[0;34m)\u001b[0m\u001b[0;34m\u001b[0m\u001b[0m\n\u001b[0;32m----> 4\u001b[0;31m \u001b[0mgrad_clf\u001b[0m\u001b[0;34m.\u001b[0m\u001b[0mfit\u001b[0m\u001b[0;34m(\u001b[0m\u001b[0mX_train\u001b[0m\u001b[0;34m,\u001b[0m \u001b[0mY_train\u001b[0m\u001b[0;34m)\u001b[0m\u001b[0;34m\u001b[0m\u001b[0m\n\u001b[0m\u001b[1;32m      5\u001b[0m \u001b[0;34m\u001b[0m\u001b[0m\n\u001b[1;32m      6\u001b[0m \u001b[0mgrad_pred\u001b[0m \u001b[0;34m=\u001b[0m \u001b[0mgrad_clf\u001b[0m\u001b[0;34m.\u001b[0m\u001b[0mpredict\u001b[0m\u001b[0;34m(\u001b[0m\u001b[0mX_test\u001b[0m\u001b[0;34m)\u001b[0m\u001b[0;34m\u001b[0m\u001b[0m\n",
      "\u001b[0;32m/anaconda/lib/python3.6/site-packages/sklearn/ensemble/gradient_boosting.py\u001b[0m in \u001b[0;36mfit\u001b[0;34m(self, X, y, sample_weight, monitor)\u001b[0m\n\u001b[1;32m   1032\u001b[0m         \u001b[0;31m# fit the boosting stages\u001b[0m\u001b[0;34m\u001b[0m\u001b[0;34m\u001b[0m\u001b[0m\n\u001b[1;32m   1033\u001b[0m         n_stages = self._fit_stages(X, y, y_pred, sample_weight, random_state,\n\u001b[0;32m-> 1034\u001b[0;31m                                     begin_at_stage, monitor, X_idx_sorted)\n\u001b[0m\u001b[1;32m   1035\u001b[0m         \u001b[0;31m# change shape of arrays after fit (early-stopping or additional ests)\u001b[0m\u001b[0;34m\u001b[0m\u001b[0;34m\u001b[0m\u001b[0m\n\u001b[1;32m   1036\u001b[0m         \u001b[0;32mif\u001b[0m \u001b[0mn_stages\u001b[0m \u001b[0;34m!=\u001b[0m \u001b[0mself\u001b[0m\u001b[0;34m.\u001b[0m\u001b[0mestimators_\u001b[0m\u001b[0;34m.\u001b[0m\u001b[0mshape\u001b[0m\u001b[0;34m[\u001b[0m\u001b[0;36m0\u001b[0m\u001b[0;34m]\u001b[0m\u001b[0;34m:\u001b[0m\u001b[0;34m\u001b[0m\u001b[0m\n",
      "\u001b[0;32m/anaconda/lib/python3.6/site-packages/sklearn/ensemble/gradient_boosting.py\u001b[0m in \u001b[0;36m_fit_stages\u001b[0;34m(self, X, y, y_pred, sample_weight, random_state, begin_at_stage, monitor, X_idx_sorted)\u001b[0m\n\u001b[1;32m   1087\u001b[0m             y_pred = self._fit_stage(i, X, y, y_pred, sample_weight,\n\u001b[1;32m   1088\u001b[0m                                      \u001b[0msample_mask\u001b[0m\u001b[0;34m,\u001b[0m \u001b[0mrandom_state\u001b[0m\u001b[0;34m,\u001b[0m \u001b[0mX_idx_sorted\u001b[0m\u001b[0;34m,\u001b[0m\u001b[0;34m\u001b[0m\u001b[0m\n\u001b[0;32m-> 1089\u001b[0;31m                                      X_csc, X_csr)\n\u001b[0m\u001b[1;32m   1090\u001b[0m \u001b[0;34m\u001b[0m\u001b[0m\n\u001b[1;32m   1091\u001b[0m             \u001b[0;31m# track deviance (= loss)\u001b[0m\u001b[0;34m\u001b[0m\u001b[0;34m\u001b[0m\u001b[0m\n",
      "\u001b[0;32m/anaconda/lib/python3.6/site-packages/sklearn/ensemble/gradient_boosting.py\u001b[0m in \u001b[0;36m_fit_stage\u001b[0;34m(self, i, X, y, y_pred, sample_weight, sample_mask, random_state, X_idx_sorted, X_csc, X_csr)\u001b[0m\n\u001b[1;32m    786\u001b[0m             \u001b[0;32melse\u001b[0m\u001b[0;34m:\u001b[0m\u001b[0;34m\u001b[0m\u001b[0m\n\u001b[1;32m    787\u001b[0m                 tree.fit(X, residual, sample_weight=sample_weight,\n\u001b[0;32m--> 788\u001b[0;31m                          check_input=False, X_idx_sorted=X_idx_sorted)\n\u001b[0m\u001b[1;32m    789\u001b[0m \u001b[0;34m\u001b[0m\u001b[0m\n\u001b[1;32m    790\u001b[0m             \u001b[0;31m# update tree leaves\u001b[0m\u001b[0;34m\u001b[0m\u001b[0;34m\u001b[0m\u001b[0m\n",
      "\u001b[0;32m/anaconda/lib/python3.6/site-packages/sklearn/tree/tree.py\u001b[0m in \u001b[0;36mfit\u001b[0;34m(self, X, y, sample_weight, check_input, X_idx_sorted)\u001b[0m\n\u001b[1;32m   1122\u001b[0m             \u001b[0msample_weight\u001b[0m\u001b[0;34m=\u001b[0m\u001b[0msample_weight\u001b[0m\u001b[0;34m,\u001b[0m\u001b[0;34m\u001b[0m\u001b[0m\n\u001b[1;32m   1123\u001b[0m             \u001b[0mcheck_input\u001b[0m\u001b[0;34m=\u001b[0m\u001b[0mcheck_input\u001b[0m\u001b[0;34m,\u001b[0m\u001b[0;34m\u001b[0m\u001b[0m\n\u001b[0;32m-> 1124\u001b[0;31m             X_idx_sorted=X_idx_sorted)\n\u001b[0m\u001b[1;32m   1125\u001b[0m         \u001b[0;32mreturn\u001b[0m \u001b[0mself\u001b[0m\u001b[0;34m\u001b[0m\u001b[0m\n\u001b[1;32m   1126\u001b[0m \u001b[0;34m\u001b[0m\u001b[0m\n",
      "\u001b[0;32m/anaconda/lib/python3.6/site-packages/sklearn/tree/tree.py\u001b[0m in \u001b[0;36mfit\u001b[0;34m(self, X, y, sample_weight, check_input, X_idx_sorted)\u001b[0m\n\u001b[1;32m    360\u001b[0m                                            min_impurity_split)\n\u001b[1;32m    361\u001b[0m \u001b[0;34m\u001b[0m\u001b[0m\n\u001b[0;32m--> 362\u001b[0;31m         \u001b[0mbuilder\u001b[0m\u001b[0;34m.\u001b[0m\u001b[0mbuild\u001b[0m\u001b[0;34m(\u001b[0m\u001b[0mself\u001b[0m\u001b[0;34m.\u001b[0m\u001b[0mtree_\u001b[0m\u001b[0;34m,\u001b[0m \u001b[0mX\u001b[0m\u001b[0;34m,\u001b[0m \u001b[0my\u001b[0m\u001b[0;34m,\u001b[0m \u001b[0msample_weight\u001b[0m\u001b[0;34m,\u001b[0m \u001b[0mX_idx_sorted\u001b[0m\u001b[0;34m)\u001b[0m\u001b[0;34m\u001b[0m\u001b[0m\n\u001b[0m\u001b[1;32m    363\u001b[0m \u001b[0;34m\u001b[0m\u001b[0m\n\u001b[1;32m    364\u001b[0m         \u001b[0;32mif\u001b[0m \u001b[0mself\u001b[0m\u001b[0;34m.\u001b[0m\u001b[0mn_outputs_\u001b[0m \u001b[0;34m==\u001b[0m \u001b[0;36m1\u001b[0m\u001b[0;34m:\u001b[0m\u001b[0;34m\u001b[0m\u001b[0m\n",
      "\u001b[0;31mKeyboardInterrupt\u001b[0m: "
     ]
    }
   ],
   "source": [
    "from sklearn.ensemble import GradientBoostingClassifier\n",
    "\n",
    "grad_clf = GradientBoostingClassifier()\n",
    "grad_clf.fit(X_train, Y_train)\n",
    "\n",
    "grad_pred = grad_clf.predict(X_test)\n",
    "grad_probs = grad_clf.predict_proba(X_test)[:, 1]\n",
    "equality_grad = np.equal(grad_pred, Y_test)\n",
    "print(equality_grad.astype(int).mean())\n",
    "\n",
    "false_positive_rate, true_positive_rate, thresholds = roc_curve(Y_test, grad_probs)\n",
    "roc_auc_grad = auc(false_positive_rate, true_positive_rate)\n",
    "print(roc_auc_grad)"
   ]
  },
  {
   "cell_type": "code",
   "execution_count": 96,
   "metadata": {},
   "outputs": [
    {
     "name": "stdout",
     "output_type": "stream",
     "text": [
      "Random forest: accuracy, ROC: 0.909905768789 0.768058537112\n",
      "Logistic reg: accuracy, ROC: 0.910237748666 0.779194422663\n",
      "Bagging classifier: accuracy, ROC: 0.909752547307 0.760152556715\n",
      "AdaBoost: accuracy, ROC: 0.909369493603 0.775502849629\n",
      "Gradient Boosting: accuracy, ROC: 0.90998237953 0.778495248539\n"
     ]
    }
   ],
   "source": [
    "print(\"Random forest: accuracy, ROC:\", equality_rf.astype(int).mean(), roc_auc_rf)\n",
    "print(\"Logistic reg: accuracy, ROC:\", equality_lg.astype(int).mean(), roc_auc_lg)\n",
    "print(\"Bagging classifier: accuracy, ROC:\", equality_bag.astype(int).mean(), roc_auc_bag)\n",
    "print(\"AdaBoost: accuracy, ROC:\", equality_ada.astype(int).mean(), roc_auc_ada)\n",
    "print(\"Gradient Boosting: accuracy, ROC:\", equality_grad.astype(int).mean(), roc_auc_grad)"
   ]
  },
  {
   "cell_type": "markdown",
   "metadata": {},
   "source": [
    "Any crime:\n",
    "\n",
    "Random forest: accuracy, ROC: 0.904139433551 0.743496902997 <br>\n",
    "Logistic reg: accuracy, ROC: 0.904030501089 **0.785436765563** <br>\n",
    "Bagging classifier: accuracy, ROC: 0.90348583878 0.744057819764 <br>\n",
    "AdaBoost: accuracy, ROC: 0.902069716776 0.758900529947 <br>\n",
    "Gradient Boosting: accuracy, ROC: 0.903703703704 0.765535029344"
   ]
  },
  {
   "cell_type": "markdown",
   "metadata": {},
   "source": [
    "Property crimes:\n",
    "    \n",
    "Random forest: accuracy, ROC: 0.937945299931 0.747320727603 <br>\n",
    "Logistic reg: accuracy, ROC: 0.937945299931 **0.755280927026** <br>\n",
    "Bagging classifier: accuracy, ROC: 0.937894226104 0.735846535637 <br>\n",
    "AdaBoost: accuracy, ROC: 0.937945299931 0.752922506486 <br>\n",
    "Gradient Boosting: accuracy, ROC: 0.937945299931 0.753414616028\n",
    "    \n",
    "    "
   ]
  },
  {
   "cell_type": "markdown",
   "metadata": {},
   "source": [
    "Violent crimes:\n",
    "    \n",
    "Random forest: accuracy, ROC: 0.983094563191 0.732260300112 <br>\n",
    "Logistic reg: accuracy, ROC: 0.983094563191 0.73584165973 <br>\n",
    "Bagging classifier: accuracy, ROC: 0.983094563191 0.691971642629 <br>\n",
    "AdaBoost: accuracy, ROC: 0.983094563191 0.727432325523 <br>\n",
    "Gradient Boosting: accuracy, ROC: 0.982507214178 **0.736741325706**\n",
    "    \n",
    "    "
   ]
  },
  {
   "cell_type": "markdown",
   "metadata": {},
   "source": [
    "Robberies:\n",
    "\n",
    "Random forest: accuracy, ROC: 0.993717919252 **0.729645337661** <br>\n",
    "Logistic reg: accuracy, ROC: 0.993717919252 0.667253445721 <br>\n",
    "Bagging classifier: accuracy, ROC: 0.993717919252 0.561927284526 <br>\n",
    "AdaBoost: accuracy, ROC: 0.993717919252 0.657531946918 <br>\n",
    "Gradient Boosting: accuracy, ROC: 0.991751576904 0.712783509764\n"
   ]
  },
  {
   "cell_type": "markdown",
   "metadata": {},
   "source": [
    "Other crimes:\n",
    "\n",
    "Random forest: accuracy, ROC: 0.909905768789 0.768058537112 <br>\n",
    "Logistic reg: accuracy, ROC: 0.910237748666 **0.779194422663** <br>\n",
    "Bagging classifier: accuracy, ROC: 0.909752547307 0.760152556715 <br>\n",
    "AdaBoost: accuracy, ROC: 0.909369493603 0.775502849629 <br>\n",
    "Gradient Boosting: accuracy, ROC: 0.90998237953 0.778495248539"
   ]
  },
  {
   "cell_type": "code",
   "execution_count": 67,
   "metadata": {},
   "outputs": [
    {
     "name": "stdout",
     "output_type": "stream",
     "text": [
      "(39159, 195)\n",
      "(39159, 1)\n"
     ]
    }
   ],
   "source": [
    "# Restrict crime_pred dataframe to test data [154000:]\n",
    "filtered_crime = crime_pred.iloc[154000:].filter(regex=\"(^ct_)\")\n",
    "true_crime = crime_pred.iloc[154000:].filter(regex=\"future_any*\")\n",
    "print(filtered_crime.shape)\n",
    "print(true_crime.shape)\n",
    "\n",
    "filtered_crime['actual_crime'] = true_crime\n",
    "filtered_crime['pred_crime_prob'] = lg_clf.predict_proba(X_test)[:, 1]"
   ]
  },
  {
   "cell_type": "code",
   "execution_count": 68,
   "metadata": {},
   "outputs": [
    {
     "name": "stdout",
     "output_type": "stream",
     "text": [
      "0.767647050021\n"
     ]
    }
   ],
   "source": [
    "from sklearn.metrics import roc_curve, auc\n",
    "\n",
    "false_positive_rate, true_positive_rate, thresholds = roc_curve(filtered_crime['actual_crime'].values, \\\n",
    "                                                                filtered_crime['pred_crime_prob'].values)\n",
    "roc_auc = auc(false_positive_rate, true_positive_rate)\n",
    "print(roc_auc)"
   ]
  },
  {
   "cell_type": "code",
   "execution_count": 69,
   "metadata": {},
   "outputs": [
    {
     "data": {
      "image/png": "[encoded data removed]",
      "text/plain": [
       "<matplotlib.figure.Figure at 0x1a17250fd0>"
      ]
     },
     "metadata": {},
     "output_type": "display_data"
    }
   ],
   "source": [
    "import matplotlib.pyplot as plt\n",
    "plt.title('Logistic ROC curve')\n",
    "plt.plot(false_positive_rate, true_positive_rate, 'b', \\\n",
    "label='AUC = %0.2f'% roc_auc)\n",
    "plt.legend(loc='lower right')\n",
    "plt.plot([0,1],[0,1],'r--')\n",
    "plt.xlim([-0.1,1.2])\n",
    "plt.ylim([-0.1,1.2])\n",
    "plt.ylabel('True Positive Rate')\n",
    "plt.xlabel('False Positive Rate')\n",
    "plt.show()"
   ]
  },
  {
   "cell_type": "code",
   "execution_count": 70,
   "metadata": {},
   "outputs": [
    {
     "data": {
      "image/png": "[encoded data removed]",
      "text/plain": [
       "<matplotlib.figure.Figure at 0x1a0d9951d0>"
      ]
     },
     "metadata": {},
     "output_type": "display_data"
    },
    {
     "name": "stdout",
     "output_type": "stream",
     "text": [
      "\n",
      "The optimal threshold for your data is: 0.14.\n",
      "\n"
     ]
    }
   ],
   "source": [
    "plt.figure()\n",
    "plt.plot(thresholds, false_positive_rate, color='red', label='False Positive Rate')\n",
    "plt.plot(thresholds, true_positive_rate, color='blue', label='True Positive Rate')\n",
    "plt.xlim([0.0, 1.0])\n",
    "plt.ylim([0.0, 1.05])\n",
    "plt.xlabel('Thresholds')\n",
    "plt.legend(bbox_to_anchor=(0., 1.02, 1., .102), loc=3,\n",
    "           ncol=2, mode=\"expand\", borderaxespad=0.)\n",
    "plt.show()\n",
    "\n",
    "value = (0, 0)\n",
    "\n",
    "for i in range(len(thresholds)):\n",
    "    if thresholds[i] > 1:\n",
    "        continue\n",
    "    new_value = (true_positive_rate[i]-false_positive_rate[i], thresholds[i])\n",
    "\n",
    "    if new_value[0] > value[0] and new_value[0] != 1.0:\n",
    "        value = new_value\n",
    "\n",
    "print(\"\\nThe optimal threshold for your data is: {:.2}.\\n\".format(value[1]))"
   ]
  },
  {
   "cell_type": "code",
   "execution_count": 71,
   "metadata": {
    "collapsed": true
   },
   "outputs": [],
   "source": [
    "filtered_crime['pred_crime'] = (filtered_crime['pred_crime_prob'] >= 0.14).astype(int)"
   ]
  },
  {
   "cell_type": "code",
   "execution_count": 72,
   "metadata": {},
   "outputs": [],
   "source": [
    "# Reverse one hot encode census tract variable\n",
    "filtered_crime['census_tract'] = filtered_crime.idxmax(1)"
   ]
  },
  {
   "cell_type": "code",
   "execution_count": 73,
   "metadata": {},
   "outputs": [
    {
     "name": "stdout",
     "output_type": "stream",
     "text": [
      "       census_tract  ct_253.0\n",
      "154000     ct_253.0         1\n",
      "154001     ct_117.0         0\n",
      "154002     ct_261.0         0\n",
      "154003    ct_312.01         0\n",
      "154004     ct_117.0         0\n"
     ]
    }
   ],
   "source": [
    "print(filtered_crime[['census_tract', 'ct_253.0']].head())"
   ]
  },
  {
   "cell_type": "code",
   "execution_count": 74,
   "metadata": {},
   "outputs": [
    {
     "name": "stdout",
     "output_type": "stream",
     "text": [
      "154000     253.0\n",
      "154001     117.0\n",
      "154002     261.0\n",
      "154003    312.01\n",
      "154004     117.0\n",
      "Name: census_tract_num, dtype: object\n",
      "(39159, 200)\n"
     ]
    }
   ],
   "source": [
    "# Remove ct_ prefix\n",
    "filtered_crime['census_tract_num'] = [x for x in map(lambda x: x[3:], filtered_crime['census_tract'])]\n",
    "print(filtered_crime['census_tract_num'].head())\n",
    "print(filtered_crime.shape)"
   ]
  },
  {
   "cell_type": "markdown",
   "metadata": {},
   "source": [
    "Need to:\n",
    "\n",
    "1) Based on predicted class and true class, create binaries for true pos, false pos, true neg, false neg <br>\n",
    "2) Get total counts of crimes in each census tract <br>\n",
    "3) Sum the binaries within tract and divide by total crimes per tract to get proportions <br>\n",
    "4) Output a census level dataset with proportions of each type of classification (will add to 1)"
   ]
  },
  {
   "cell_type": "code",
   "execution_count": 75,
   "metadata": {},
   "outputs": [
    {
     "name": "stdout",
     "output_type": "stream",
     "text": [
      "(39159, 3)\n"
     ]
    }
   ],
   "source": [
    "no_one_hot = pd.DataFrame(filtered_crime[['census_tract_num', 'pred_crime', 'actual_crime']])\n",
    "print(no_one_hot.shape)"
   ]
  },
  {
   "cell_type": "code",
   "execution_count": 76,
   "metadata": {},
   "outputs": [
    {
     "name": "stdout",
     "output_type": "stream",
     "text": [
      "0    24665\n",
      "1    14494\n",
      "Name: pred_crime, dtype: int64\n",
      "0    33177\n",
      "1     5982\n",
      "Name: actual_crime, dtype: int64\n",
      "0.695548915958\n"
     ]
    }
   ],
   "source": [
    "print(no_one_hot['pred_crime'].value_counts())\n",
    "print(no_one_hot['actual_crime'].value_counts())\n",
    "\n",
    "no_one_hot['correct_pred'] = (no_one_hot['pred_crime'] == no_one_hot['actual_crime'])\n",
    "print(no_one_hot['correct_pred'].values.mean())"
   ]
  },
  {
   "cell_type": "code",
   "execution_count": 77,
   "metadata": {},
   "outputs": [],
   "source": [
    "# Generate binaries for crime_count, TP, FP, FN, TN\n",
    "no_one_hot['TP'] = ((no_one_hot['pred_crime'] == 1) & (no_one_hot['actual_crime'] == 1)).astype(int)\n",
    "no_one_hot['FP'] = ((no_one_hot['pred_crime'] == 1) & (no_one_hot['actual_crime'] == 0)).astype(int)\n",
    "no_one_hot['TN'] = ((no_one_hot['pred_crime'] == 0) & (no_one_hot['actual_crime'] == 0)).astype(int)\n",
    "no_one_hot['FN'] = ((no_one_hot['pred_crime'] == 0) & (no_one_hot['actual_crime'] == 1)).astype(int)"
   ]
  },
  {
   "cell_type": "code",
   "execution_count": 78,
   "metadata": {},
   "outputs": [
    {
     "name": "stdout",
     "output_type": "stream",
     "text": [
      "0    34882\n",
      "1     4277\n",
      "Name: TP, dtype: int64\n",
      "1    22960\n",
      "0    16199\n",
      "Name: TN, dtype: int64\n",
      "0    28942\n",
      "1    10217\n",
      "Name: FP, dtype: int64\n",
      "0    37454\n",
      "1     1705\n",
      "Name: FN, dtype: int64\n"
     ]
    }
   ],
   "source": [
    "# Want these to be high\n",
    "print(no_one_hot['TP'].value_counts())\n",
    "print(no_one_hot['TN'].value_counts())\n",
    "\n",
    "# Want these to be low\n",
    "print(no_one_hot['FP'].value_counts())\n",
    "print(no_one_hot['FN'].value_counts())"
   ]
  },
  {
   "cell_type": "code",
   "execution_count": 83,
   "metadata": {},
   "outputs": [
    {
     "name": "stdout",
     "output_type": "stream",
     "text": [
      "                 census_tract  det_rate  false_alarm_rate\n",
      "census_tract_num                                         \n",
      "101.0                   101.0  0.450000          0.441913\n",
      "102.0                   102.0  0.000000          0.000000\n",
      "103.0                   103.0  0.000000          0.000000\n",
      "104.0                   104.0  0.000000          0.000000\n",
      "105.0                   105.0  0.033333          0.008584\n",
      "0.103725769903\n",
      "0.120594862814\n"
     ]
    }
   ],
   "source": [
    "grouped_counts = no_one_hot.groupby('census_tract_num').sum()\n",
    "grouped_counts['census_tract'] = grouped_counts.index\n",
    "\n",
    "grouped_counts['det_rate'] = grouped_counts['TP']/(grouped_counts['TP'] + grouped_counts['FN'])\n",
    "grouped_counts['false_alarm_rate'] = grouped_counts['FP']/(grouped_counts['TN'] + grouped_counts['FP'])\n",
    "print(grouped_counts[['census_tract', 'det_rate', 'false_alarm_rate']].head())"
   ]
  },
  {
   "cell_type": "code",
   "execution_count": 87,
   "metadata": {},
   "outputs": [],
   "source": [
    "grouped_counts.to_csv('~/Desktop/project1030/SF/performance_by_tract.csv')"
   ]
  },
  {
   "cell_type": "code",
   "execution_count": null,
   "metadata": {
    "collapsed": true
   },
   "outputs": [],
   "source": []
  }
 ],
 "metadata": {
  "kernelspec": {
   "display_name": "Python 3",
   "language": "python",
   "name": "python3"
  },
  "language_info": {
   "codemirror_mode": {
    "name": "ipython",
    "version": 3
   },
   "file_extension": ".py",
   "mimetype": "text/x-python",
   "name": "python",
   "nbconvert_exporter": "python",
   "pygments_lexer": "ipython3",
   "version": "3.6.1"
  }
 },
 "nbformat": 4,
 "nbformat_minor": 2
}
