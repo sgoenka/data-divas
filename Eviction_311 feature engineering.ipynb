{
 "cells": [
  {
   "cell_type": "code",
   "execution_count": 70,
   "metadata": {},
   "outputs": [
    {
     "name": "stdout",
     "output_type": "stream",
     "text": [
      "Index(['Eviction ID', 'Address', 'City', 'State',\n",
      "       'Eviction Notice Source Zipcode', 'File Date', 'Non Payment', 'Breach',\n",
      "       'Nuisance', 'Illegal Use', 'Failure to Sign Renewal', 'Access Denial',\n",
      "       'Unapproved Subtenant', 'Owner Move In', 'Demolition',\n",
      "       'Capital Improvement', 'Substantial Rehab', 'Ellis Act WithDrawal',\n",
      "       'Condo Conversion', 'Roommate Same Unit', 'Other Cause',\n",
      "       'Late Payments', 'Lead Remediation', 'Development',\n",
      "       'Good Samaritan Ends', 'Constraints Date', 'Supervisor District',\n",
      "       'Neighborhoods - Analysis Boundaries', 'Location'],\n",
      "      dtype='object')\n",
      "(38117, 7)\n",
      "  Eviction ID   File Date  Non Payment  Illegal Use  Nuisance  \\\n",
      "0     M171880  07/27/2017        False        False      True   \n",
      "1     M171925  07/27/2017        False        False     False   \n",
      "2     M171926  07/27/2017        False        False     False   \n",
      "3     M171834  07/25/2017        False        False      True   \n",
      "4     M141352  06/10/2014         True        False     False   \n",
      "\n",
      "  Neighborhoods - Analysis Boundaries  \\\n",
      "0                                 NaN   \n",
      "1                                 NaN   \n",
      "2                                 NaN   \n",
      "3                                 NaN   \n",
      "4                             Mission   \n",
      "\n",
      "                                   Location  \n",
      "0                                       NaN  \n",
      "1                                       NaN  \n",
      "2                                       NaN  \n",
      "3                                       NaN  \n",
      "4  (37.75790376258155, -122.41781931827798)  \n"
     ]
    },
    {
     "name": "stderr",
     "output_type": "stream",
     "text": [
      "/anaconda/lib/python3.6/site-packages/IPython/core/interactiveshell.py:2698: DtypeWarning: Columns (4) have mixed types. Specify dtype option on import or set low_memory=False.\n",
      "  interactivity=interactivity, compiler=compiler, result=result)\n"
     ]
    }
   ],
   "source": [
    "import pandas as pd\n",
    "import numpy as np\n",
    "\n",
    "# Read in eviction data\n",
    "evict = pd.read_csv('~/Desktop/project1030/SF/Eviction_Notices.csv')\n",
    "print(evict.columns)\n",
    "\n",
    "\n",
    "# Restrict to subset of columns \n",
    "evict = evict[['Eviction ID', 'File Date', 'Non Payment', 'Illegal Use', \\\n",
    "               'Nuisance', 'Neighborhoods - Analysis Boundaries', 'Location']]\n",
    "\n",
    "print(evict.shape)\n",
    "print(evict.head())"
   ]
  },
  {
   "cell_type": "code",
   "execution_count": 71,
   "metadata": {
    "collapsed": true
   },
   "outputs": [],
   "source": [
    "from datetime import datetime\n",
    "from dateutil.parser import parse\n",
    "\n",
    "# Convert string dates to datetime format\n",
    "evict['date'] = [datetime.strptime(x, '%m/%d/%Y') for x in evict['File Date'].values]\n",
    "evict.sort_values(by='date', inplace=True)"
   ]
  },
  {
   "cell_type": "code",
   "execution_count": 72,
   "metadata": {
    "collapsed": true
   },
   "outputs": [],
   "source": [
    "# Restrict to evictions in time range Jan 2003 to May 2015\n",
    "data_start = '2003-01-01'\n",
    "data_end = '2015-05-30'\n",
    "\n",
    "evict_new = evict[(evict['date'] >= datetime.strptime(data_start, '%Y-%m-%d')) & \\\n",
    "                  (evict['date'] <= datetime.strptime(data_end, '%Y-%m-%d'))]\n",
    "\n",
    "# Drop rows with NA values for location\n",
    "evict_new = evict_new.dropna(axis=0, how='any')\n",
    "\n",
    "evict_new.sort_values(by='date', inplace=True)"
   ]
  },
  {
   "cell_type": "code",
   "execution_count": 73,
   "metadata": {
    "collapsed": true
   },
   "outputs": [],
   "source": [
    "import re\n",
    "\n",
    "# Write function to convert \"(x, y)\" to x and y columns \n",
    "def convert_coords(coords):\n",
    "    m = re.split(',', coords)\n",
    "    x_trim = m[0].replace(\"(\", '')\n",
    "    x_num = float(x_trim)\n",
    "\n",
    "    y_trim = m[1].replace(\")\", '')\n",
    "    y_num = float(y_trim)\n",
    "    return (x_num, y_num)\n",
    "\n",
    "x_coords = [i[1] for i in list(map(convert_coords, evict_new['Location']))]\n",
    "y_coords = [i[0] for i in list(map(convert_coords, evict_new['Location']))]\n",
    "\n",
    "evict_new['X'] = x_coords\n",
    "evict_new['Y'] = y_coords"
   ]
  },
  {
   "cell_type": "code",
   "execution_count": 74,
   "metadata": {},
   "outputs": [
    {
     "name": "stdout",
     "output_type": "stream",
     "text": [
      "   STATEFP10  TRACTCE10                                           the_geom  \\\n",
      "0          6      16500  MULTIPOLYGON (((-122.446471 37.775802, -122.44...   \n",
      "1          6      16400  MULTIPOLYGON (((-122.44033999999999 37.7765799...   \n",
      "2          6      16300  MULTIPOLYGON (((-122.429152 37.778006999999995...   \n",
      "3          6      16100  MULTIPOLYGON (((-122.428909 37.778039, -122.42...   \n",
      "4          6      16000  MULTIPOLYGON (((-122.420425 37.780583, -122.42...   \n",
      "\n",
      "   COUNTYFP10     GEOID10  NAME10        NAMELSAD10 MTFCC10 FUNCSTAT10  \\\n",
      "0          75  6075016500   165.0  Census Tract 165   G5020          S   \n",
      "1          75  6075016400   164.0  Census Tract 164   G5020          S   \n",
      "2          75  6075016300   163.0  Census Tract 163   G5020          S   \n",
      "3          75  6075016100   161.0  Census Tract 161   G5020          S   \n",
      "4          75  6075016000   160.0  Census Tract 160   G5020          S   \n",
      "\n",
      "   ALAND10  AWATER10  INTPTLAT10  INTPTLON10  \n",
      "0   370459         0   37.774196 -122.447788  \n",
      "1   309097         0   37.775099 -122.436973  \n",
      "2   245867         0   37.776046 -122.429551  \n",
      "3   368901         0   37.779983 -122.428663  \n",
      "4   158236         0   37.782336 -122.422484  \n"
     ]
    }
   ],
   "source": [
    "import geopandas as gpd\n",
    "import os\n",
    "from geopandas import GeoDataFrame\n",
    "import shapely.wkt\n",
    "\n",
    "# Read in csv file containing SF census tracts and corresponding MULTIPOLYGON objects\n",
    "data_path = '/Users/Sam/Desktop/project1030/SF'\n",
    "census_tr = pd.read_csv(os.path.join(data_path, 'Census_2010_Tracts.csv'))\n",
    "\n",
    "geometry = census_tr['the_geom'].map(shapely.wkt.loads)\n",
    "print(census_tr.head())\n",
    "\n",
    "crs = {'init': 'epsg:4326'}\n",
    "\n",
    "# Restrict to mainland SF \n",
    "census_tr = census_tr[census_tr['INTPTLON10'] > -122.6]\n",
    "\n",
    "sf_census_tracts = GeoDataFrame(census_tr, crs=crs, geometry=geometry)"
   ]
  },
  {
   "cell_type": "code",
   "execution_count": 75,
   "metadata": {
    "collapsed": true
   },
   "outputs": [],
   "source": [
    "from shapely.geometry import Point\n",
    "\n",
    "# First convert all eviction to Point objects\n",
    "evict_locs = [Point(xy) for xy in zip(evict_new['X'], evict_new['Y'])]\n",
    "evict_locs_df = GeoDataFrame(evict_locs, crs=crs, geometry=evict_locs)\n",
    "\n",
    "evict_new['locs'] = evict_locs"
   ]
  },
  {
   "cell_type": "code",
   "execution_count": 76,
   "metadata": {
    "collapsed": true
   },
   "outputs": [],
   "source": [
    "# Spatial join the census tracts polygons and the eviction points\n",
    "evict_census = gpd.sjoin(evict_locs_df, sf_census_tracts, how=\"inner\", op='within')"
   ]
  },
  {
   "cell_type": "code",
   "execution_count": 77,
   "metadata": {},
   "outputs": [
    {
     "name": "stdout",
     "output_type": "stream",
     "text": [
      "Index([            0,    'geometry', 'index_right',   'STATEFP10',\n",
      "         'TRACTCE10',    'the_geom',  'COUNTYFP10',     'GEOID10',\n",
      "            'NAME10',  'NAMELSAD10',     'MTFCC10',  'FUNCSTAT10',\n",
      "           'ALAND10',    'AWATER10',  'INTPTLAT10',  'INTPTLON10'],\n",
      "      dtype='object')\n"
     ]
    }
   ],
   "source": [
    "print(evict_census.columns)\n",
    "\n",
    "# NAME10 is the column from the census tracts dataset with the numeric identifier\n",
    "# How many evictions happened in each census tract?\n",
    "#print(evict_census['NAME10'].value_counts())"
   ]
  },
  {
   "cell_type": "code",
   "execution_count": 78,
   "metadata": {},
   "outputs": [
    {
     "name": "stderr",
     "output_type": "stream",
     "text": [
      "/anaconda/lib/python3.6/site-packages/ipykernel_launcher.py:7: SettingWithCopyWarning: \n",
      "A value is trying to be set on a copy of a slice from a DataFrame.\n",
      "Try using .loc[row_indexer,col_indexer] = value instead\n",
      "\n",
      "See the caveats in the documentation: http://pandas.pydata.org/pandas-docs/stable/indexing.html#indexing-view-versus-copy\n",
      "  import sys\n",
      "/anaconda/lib/python3.6/site-packages/ipykernel_launcher.py:8: SettingWithCopyWarning: \n",
      "A value is trying to be set on a copy of a slice from a DataFrame.\n",
      "Try using .loc[row_indexer,col_indexer] = value instead\n",
      "\n",
      "See the caveats in the documentation: http://pandas.pydata.org/pandas-docs/stable/indexing.html#indexing-view-versus-copy\n",
      "  \n"
     ]
    }
   ],
   "source": [
    "# Extract X and Y coordinates\n",
    "x_coords = evict_census['geometry'].apply(lambda p: p.x)\n",
    "y_coords = evict_census['geometry'].apply(lambda p: p.y)\n",
    "\n",
    "# Create new truncated df containing only Point object and census tract name\n",
    "evict_census_trunc = evict_census[['NAME10', 'the_geom']]\n",
    "evict_census_trunc['X'] = x_coords\n",
    "evict_census_trunc['Y'] = y_coords"
   ]
  },
  {
   "cell_type": "code",
   "execution_count": 79,
   "metadata": {},
   "outputs": [
    {
     "name": "stderr",
     "output_type": "stream",
     "text": [
      "/anaconda/lib/python3.6/site-packages/ipykernel_launcher.py:5: SettingWithCopyWarning: \n",
      "A value is trying to be set on a copy of a slice from a DataFrame\n",
      "\n",
      "See the caveats in the documentation: http://pandas.pydata.org/pandas-docs/stable/indexing.html#indexing-view-versus-copy\n",
      "  \"\"\"\n"
     ]
    },
    {
     "name": "stdout",
     "output_type": "stream",
     "text": [
      "(18614, 4)\n",
      "(18614, 11)\n",
      "(6283, 4)\n"
     ]
    }
   ],
   "source": [
    "print(evict_census_trunc.shape)\n",
    "print(evict_new.shape)\n",
    "\n",
    "# Remove duplicates from spatially merged dataset (evict_census_trunc)\n",
    "evict_census_trunc.drop_duplicates(inplace=True)\n",
    "print(evict_census_trunc.shape)\n",
    "\n",
    "# Now, merge on census tract information to evict_new dataset, joining on the coordinate variables\n",
    "evict_merged = pd.merge(evict_new, evict_census_trunc, how='inner', on=['X', 'Y'])"
   ]
  },
  {
   "cell_type": "code",
   "execution_count": 80,
   "metadata": {},
   "outputs": [
    {
     "name": "stdout",
     "output_type": "stream",
     "text": [
      "Index(['Eviction ID', 'File Date', 'Non Payment', 'Illegal Use', 'Nuisance',\n",
      "       'Neighborhoods - Analysis Boundaries', 'Location', 'date', 'X', 'Y',\n",
      "       'locs', 'NAME10', 'the_geom'],\n",
      "      dtype='object')\n",
      "(18614, 13)\n"
     ]
    }
   ],
   "source": [
    "print(evict_merged.columns)\n",
    "print(evict_merged.shape)\n",
    "evict_merged.rename(columns= {'NAME10': 'census_tr', 'the_geom': 'census_tr_poly'}, inplace=True)"
   ]
  },
  {
   "cell_type": "code",
   "execution_count": 81,
   "metadata": {
    "collapsed": true
   },
   "outputs": [],
   "source": [
    "# Restrict to important columns\n",
    "evict_merged = evict_merged[['date', 'Non Payment', 'Illegal Use', 'X', 'Y', 'census_tr']]"
   ]
  },
  {
   "cell_type": "code",
   "execution_count": 82,
   "metadata": {
    "collapsed": true
   },
   "outputs": [],
   "source": [
    "evict_merged.sort_values(by='date', inplace=True)"
   ]
  },
  {
   "cell_type": "code",
   "execution_count": 83,
   "metadata": {},
   "outputs": [
    {
     "name": "stdout",
     "output_type": "stream",
     "text": [
      "          date  Non Payment  Illegal Use           X          Y  census_tr\n",
      "0   2003-01-02        False        False -122.437094  37.779627     158.02\n",
      "1   2003-01-02        False        False -122.415634  37.758035     228.01\n",
      "16  2003-01-02        False        False -122.469258  37.761105     302.02\n",
      "11  2003-01-02        False        False -122.388525  37.728779     232.00\n",
      "55  2003-01-03        False        False -122.442475  37.760487     204.01\n",
      "56  2003-01-03        False        False -122.442475  37.760487     204.01\n",
      "63  2003-01-03        False        False -122.418714  37.785009     122.02\n",
      "93  2003-01-03        False        False -122.481779  37.776369     477.02\n",
      "95  2003-01-03        False        False -122.455064  37.780743     156.00\n",
      "96  2003-01-03        False        False -122.452280  37.731433     311.00\n",
      "54  2003-01-03        False        False -122.442475  37.760487     204.01\n",
      "52  2003-01-03        False        False -122.430701  37.734447     218.00\n",
      "101 2003-01-06        False        False -122.424025  37.786245     151.00\n",
      "105 2003-01-06        False        False -122.411141  37.805981     101.00\n",
      "117 2003-01-06        False        False -122.424875  37.760697     207.00\n",
      "127 2003-01-06        False        False -122.453964  37.789548     133.00\n",
      "121 2003-01-06        False        False -122.485396  37.775323     477.02\n",
      "122 2003-01-06        False        False -122.439440  37.774304     164.00\n",
      "132 2003-01-06         True        False -122.386192  37.729887     232.00\n",
      "126 2003-01-06        False        False -122.437588  37.712120     263.02\n"
     ]
    }
   ],
   "source": [
    "print(evict_merged.head(20))"
   ]
  },
  {
   "cell_type": "code",
   "execution_count": 84,
   "metadata": {
    "collapsed": true
   },
   "outputs": [],
   "source": [
    "# Create new df with total date range from Jan 2003 to May 2015\n",
    "all_dates = pd.Series(pd.date_range(start = data_start, end = data_end))"
   ]
  },
  {
   "cell_type": "code",
   "execution_count": 85,
   "metadata": {
    "collapsed": true
   },
   "outputs": [],
   "source": [
    "evict_all_dates = pd.DataFrame(all_dates, columns=['date'])"
   ]
  },
  {
   "cell_type": "code",
   "execution_count": 93,
   "metadata": {},
   "outputs": [
    {
     "name": "stdout",
     "output_type": "stream",
     "text": [
      "(4533, 1)\n"
     ]
    }
   ],
   "source": []
  },
  {
   "cell_type": "code",
   "execution_count": null,
   "metadata": {
    "collapsed": true
   },
   "outputs": [],
   "source": [
    "import itertools\n",
    "\n",
    "# Create dataframe equal to cartesian product of all_dates and census_tracts\n",
    "\n",
    "\n",
    "def cartesian(df1, df2):\n",
    "    rows = itertools.product(df1.iterrows(), df2.iterrows())\n",
    "\n",
    "    df = pd.DataFrame(left.append(right) for (_, left), (_, right) in rows)\n",
    "    return df.reset_index(drop=True)"
   ]
  },
  {
   "cell_type": "code",
   "execution_count": 86,
   "metadata": {},
   "outputs": [
    {
     "data": {
      "text/plain": [
       "19.0"
      ]
     },
     "execution_count": 86,
     "metadata": {},
     "output_type": "execute_result"
    }
   ],
   "source": [
    "# Test case: can we get the number of days between two datetime stamps?\n",
    "delta = evict_all_dates['date'].values[20] - evict_all_dates['date'].values[1]\n",
    "days = delta.astype('timedelta64[D]')\n",
    "days / np.timedelta64(1, 'D')"
   ]
  },
  {
   "cell_type": "code",
   "execution_count": 87,
   "metadata": {
    "collapsed": true
   },
   "outputs": [],
   "source": [
    "# Function to calculate difference between two datetimes: datetime_2 (later) and datetime_init (earlier)\n",
    "def calc_time_delta(datetime_2, datetime_init):\n",
    "    delta = datetime_2 - datetime_init\n",
    "    days = delta.astype('timedelta64[D]')\n",
    "    return (days / np.timedelta64(1, 'D'))\n",
    "\n",
    "# Map this function over the entire datetime column to get minutes elapsed since beginning\n",
    "# of dataset\n",
    "evict_merged['days_elapsed'] = np.apply_along_axis(func1d = calc_time_delta, axis = 0, \\\n",
    "                              arr=evict_merged['date'].values, datetime_init=evict_merged['date'].values[0])"
   ]
  },
  {
   "cell_type": "code",
   "execution_count": 88,
   "metadata": {},
   "outputs": [
    {
     "name": "stdout",
     "output_type": "stream",
     "text": [
      "         date  Non Payment  Illegal Use           X          Y  census_tr  \\\n",
      "0  2003-01-02        False        False -122.437094  37.779627     158.02   \n",
      "1  2003-01-02        False        False -122.415634  37.758035     228.01   \n",
      "16 2003-01-02        False        False -122.469258  37.761105     302.02   \n",
      "11 2003-01-02        False        False -122.388525  37.728779     232.00   \n",
      "55 2003-01-03        False        False -122.442475  37.760487     204.01   \n",
      "\n",
      "    days_elapsed  \n",
      "0            0.0  \n",
      "1            0.0  \n",
      "16           0.0  \n",
      "11           0.0  \n",
      "55           1.0  \n"
     ]
    }
   ],
   "source": [
    "print(evict_merged.head())"
   ]
  },
  {
   "cell_type": "code",
   "execution_count": 89,
   "metadata": {
    "collapsed": true
   },
   "outputs": [],
   "source": [
    "# Convert non-payment and illegal use to numeric\n",
    "evict_merged['non_payment'] = evict_merged['Non Payment'].astype(int)\n",
    "evict_merged['illegal_use'] = evict_merged['Illegal Use'].astype(int)\n",
    "evict_merged['eviction'] = 1\n",
    "\n",
    "evict_merged.drop(columns=['Non Payment', 'Illegal Use'], inplace=True)"
   ]
  },
  {
   "cell_type": "code",
   "execution_count": 95,
   "metadata": {},
   "outputs": [
    {
     "name": "stdout",
     "output_type": "stream",
     "text": [
      "         date           X          Y  census_tr  days_elapsed  non_payment  \\\n",
      "0  2003-01-02 -122.437094  37.779627     158.02           0.0            0   \n",
      "1  2003-01-02 -122.415634  37.758035     228.01           0.0            0   \n",
      "16 2003-01-02 -122.469258  37.761105     302.02           0.0            0   \n",
      "11 2003-01-02 -122.388525  37.728779     232.00           0.0            0   \n",
      "55 2003-01-03 -122.442475  37.760487     204.01           1.0            0   \n",
      "\n",
      "    illegal_use  eviction  \n",
      "0             0         1  \n",
      "1             0         1  \n",
      "16            0         1  \n",
      "11            0         1  \n",
      "55            0         1  \n",
      "            date           X          Y  census_tr  days_elapsed  non_payment  \\\n",
      "18612 2015-05-29 -122.389871  37.721036     234.00        4530.0            0   \n",
      "18091 2015-05-29 -122.401167  37.730412     230.01        4530.0            0   \n",
      "7879  2015-05-29 -122.473557  37.742210     308.00        4530.0            0   \n",
      "14671 2015-05-29 -122.387018  37.733592     231.02        4530.0            1   \n",
      "18613 2015-05-29 -122.411460  37.721534     259.00        4530.0            0   \n",
      "\n",
      "       illegal_use  eviction  \n",
      "18612            0         1  \n",
      "18091            0         1  \n",
      "7879             0         1  \n",
      "14671            0         1  \n",
      "18613            0         1  \n"
     ]
    }
   ],
   "source": [
    "print(evict_merged.head())\n",
    "print(evict_merged.tail())"
   ]
  },
  {
   "cell_type": "code",
   "execution_count": 106,
   "metadata": {},
   "outputs": [
    {
     "data": {
      "text/plain": [
       "Timestamp('2003-01-02 00:00:00')"
      ]
     },
     "execution_count": 106,
     "metadata": {},
     "output_type": "execute_result"
    }
   ],
   "source": [
    "from datetime import date\n",
    "from datetime import datetime\n",
    "\n",
    "# Convert date to datetime\n",
    "def date_to_datetime(date):\n",
    "    #return str(date)\n",
    "    return pd.to_datetime(str(date))\n",
    "\n",
    "date_to_datetime(evict_merged['date'].values[0])"
   ]
  },
  {
   "cell_type": "code",
   "execution_count": 120,
   "metadata": {
    "collapsed": true
   },
   "outputs": [],
   "source": [
    "# Reformat the eviction data so that it matches what we have in the crime dataset (pad with zeros)\n",
    "evict_merged['datetime'] = evict_merged['date'].apply(lambda x: date_to_datetime(x))\n",
    "evict_merged['time'] = evict_merged['datetime'].apply(lambda x: x.time)\n",
    "evict_merged['Category'] = 'EVICTION'\n",
    "evict_merged['DayOfWeek'] = \"NULL\"\n",
    "evict_merged['year'] = evict_merged['datetime'].apply(lambda x: x.year)\n",
    "evict_merged['month'] = evict_merged['datetime'].apply(lambda x: x.month)"
   ]
  },
  {
   "cell_type": "code",
   "execution_count": 122,
   "metadata": {
    "collapsed": true
   },
   "outputs": [],
   "source": [
    "#evict_merged.drop(columns=['DayofWeek'], inplace=True)"
   ]
  },
  {
   "cell_type": "code",
   "execution_count": 124,
   "metadata": {},
   "outputs": [
    {
     "name": "stdout",
     "output_type": "stream",
     "text": [
      "Index(['date', 'census_tr', 'non_payment', 'illegal_use', 'eviction',\n",
      "       'datetime', 'time', 'Category', 'year', 'month', 'DayOfWeek'],\n",
      "      dtype='object')\n",
      "(18614, 11)\n"
     ]
    }
   ],
   "source": [
    "evict_export = evict_merged.drop(columns=['X', 'Y', 'days_elapsed'])\n",
    "print(evict_export.columns)"
   ]
  },
  {
   "cell_type": "code",
   "execution_count": 125,
   "metadata": {
    "collapsed": true
   },
   "outputs": [],
   "source": [
    "# Export eviction data to be integrated with crime data\n",
    "evict_export.to_csv('~/Desktop/project1030/SF/evict_processed.csv', index=False)"
   ]
  },
  {
   "cell_type": "code",
   "execution_count": null,
   "metadata": {
    "collapsed": true
   },
   "outputs": [],
   "source": []
  }
 ],
 "metadata": {
  "kernelspec": {
   "display_name": "Python 3",
   "language": "python",
   "name": "python3"
  },
  "language_info": {
   "codemirror_mode": {
    "name": "ipython",
    "version": 3
   },
   "file_extension": ".py",
   "mimetype": "text/x-python",
   "name": "python",
   "nbconvert_exporter": "python",
   "pygments_lexer": "ipython3",
   "version": "3.6.1"
  }
 },
 "nbformat": 4,
 "nbformat_minor": 2
}
